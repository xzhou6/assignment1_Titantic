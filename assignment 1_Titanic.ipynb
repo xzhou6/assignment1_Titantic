{
 "cells": [
  {
   "cell_type": "code",
   "execution_count": 1,
   "metadata": {
    "collapsed": true
   },
   "outputs": [],
   "source": [
    "import csv\n",
    "import numpy as np\n",
    "import pandas as pd\n",
    "import matplotlib.pyplot as plt\n",
    "import sklearn.tree as tree\n",
    "from sklearn.model_selection import cross_val_score\n",
    "from sklearn.model_selection import train_test_split\n",
    "from sklearn.metrics import classification_report, roc_curve, auc, roc_auc_score, f1_score, accuracy_score\n",
    "from sklearn import metrics\n",
    "\n",
    "from sklearn.tree import DecisionTreeClassifier\n",
    "from sklearn.neural_network import MLPClassifier\n",
    "from sklearn.ensemble import GradientBoostingClassifier\n",
    "from sklearn.neighbors import KNeighborsClassifier\n"
   ]
  },
  {
   "cell_type": "code",
   "execution_count": 2,
   "metadata": {},
   "outputs": [
    {
     "name": "stdout",
     "output_type": "stream",
     "text": [
      "<class 'pandas.core.frame.DataFrame'>\n",
      "RangeIndex: 891 entries, 0 to 890\n",
      "Data columns (total 12 columns):\n",
      "PassengerId    891 non-null int64\n",
      "Survived       891 non-null int64\n",
      "Pclass         891 non-null int64\n",
      "Name           891 non-null object\n",
      "Sex            891 non-null object\n",
      "Age            714 non-null float64\n",
      "SibSp          891 non-null int64\n",
      "Parch          891 non-null int64\n",
      "Ticket         891 non-null object\n",
      "Fare           891 non-null float64\n",
      "Cabin          204 non-null object\n",
      "Embarked       889 non-null object\n",
      "dtypes: float64(2), int64(5), object(5)\n",
      "memory usage: 83.6+ KB\n"
     ]
    }
   ],
   "source": [
    "#Titanic survival data set\n",
    "data = pd.read_csv('train.csv')\n",
    "data.info()"
   ]
  },
  {
   "cell_type": "markdown",
   "metadata": {},
   "source": [
    "#### I followed all data preprocessing steps in this article.\n",
    "https://medium.com/i-like-big-data-and-i-cannot-lie/how-i-scored-in-the-top-9-of-kaggles-titanic-machine-learning-challenge-243b5f45c8e9"
   ]
  },
  {
   "cell_type": "markdown",
   "metadata": {},
   "source": [
    "RangeIndex tells that there are 891 entries, but Age, Cabin, and Embarked have fewer than that, suggesting that these 3 columns have null/missing values. \n",
    "\n",
    "To  fix missing values in these variables:\n",
    "- Missing age: Data is grouped by a passenger’s sex, class, and title, fill the missing age with then median age by each group.\n",
    "- Missing Cabin: Fill Cabin with \"U\" for unknown.\n",
    "- Missing Embarked: Fill with the most frequent point of embarkment."
   ]
  },
  {
   "cell_type": "code",
   "execution_count": 3,
   "metadata": {
    "collapsed": true
   },
   "outputs": [],
   "source": [
    "# create a new feature to extract title names from the column of \"Name\"\n",
    "data['Title'] = data.Name.apply(lambda name: name.split(',')[1].split('.')[0].strip())"
   ]
  },
  {
   "cell_type": "code",
   "execution_count": 4,
   "metadata": {},
   "outputs": [
    {
     "name": "stdout",
     "output_type": "stream",
     "text": [
      "Mr         517\n",
      "Miss       184\n",
      "Mrs        127\n",
      "Master      40\n",
      "Officer     18\n",
      "Royalty      5\n",
      "Name: Title, dtype: int64\n"
     ]
    }
   ],
   "source": [
    "normalized_titles = {\n",
    "    \"Capt\":       \"Officer\",\n",
    "    \"Col\":        \"Officer\",\n",
    "    \"Major\":      \"Officer\",\n",
    "    \"Jonkheer\":   \"Royalty\",\n",
    "    \"Don\":        \"Royalty\",\n",
    "    \"Sir\" :       \"Royalty\",\n",
    "    \"Dr\":         \"Officer\",\n",
    "    \"Rev\":        \"Officer\",\n",
    "    \"the Countess\":\"Royalty\",\n",
    "    \"Dona\":       \"Royalty\",\n",
    "    \"Mme\":        \"Mrs\",\n",
    "    \"Mlle\":       \"Miss\",\n",
    "    \"Ms\":         \"Mrs\",\n",
    "    \"Mr\" :        \"Mr\",\n",
    "    \"Mrs\" :       \"Mrs\",\n",
    "    \"Miss\" :      \"Miss\",\n",
    "    \"Master\" :    \"Master\",\n",
    "    \"Lady\" :      \"Royalty\"\n",
    "}\n",
    "\n",
    "# map the normalized titles to the current titles \n",
    "data.Title = data.Title.map(normalized_titles)\n",
    "# view value counts for the normalized titles\n",
    "print(data.Title.value_counts())"
   ]
  },
  {
   "cell_type": "code",
   "execution_count": 48,
   "metadata": {},
   "outputs": [
    {
     "data": {
      "text/plain": [
       "Sex     Pclass  Title  \n",
       "female  1       Miss       30.0\n",
       "                Mrs        40.0\n",
       "                Officer    49.0\n",
       "                Royalty    40.5\n",
       "        2       Miss       24.0\n",
       "                Mrs        31.5\n",
       "        3       Miss       18.0\n",
       "                Mrs        31.0\n",
       "male    1       Master      4.0\n",
       "                Mr         40.0\n",
       "                Officer    51.0\n",
       "                Royalty    40.0\n",
       "        2       Master      1.0\n",
       "                Mr         31.0\n",
       "                Officer    46.5\n",
       "        3       Master      4.0\n",
       "                Mr         26.0\n",
       "Name: Age, dtype: float64"
      ]
     },
     "execution_count": 48,
     "metadata": {},
     "output_type": "execute_result"
    }
   ],
   "source": [
    "# group by Sex, Pclass, and Title \n",
    "grouped = data.groupby(['Sex','Pclass', 'Title'])  \n",
    "# view the median Age by the grouped features \n",
    "grouped.Age.median()"
   ]
  },
  {
   "cell_type": "code",
   "execution_count": 49,
   "metadata": {
    "collapsed": true
   },
   "outputs": [],
   "source": [
    "# apply the grouped median value on the Age NaN\n",
    "data.Age = grouped.Age.apply(lambda x: x.fillna(x.median()))"
   ]
  },
  {
   "cell_type": "code",
   "execution_count": 50,
   "metadata": {},
   "outputs": [
    {
     "name": "stdout",
     "output_type": "stream",
     "text": [
      "<class 'pandas.core.frame.DataFrame'>\n",
      "RangeIndex: 891 entries, 0 to 890\n",
      "Data columns (total 13 columns):\n",
      "PassengerId    891 non-null int64\n",
      "Survived       891 non-null int64\n",
      "Pclass         891 non-null int64\n",
      "Name           891 non-null object\n",
      "Sex            891 non-null object\n",
      "Age            891 non-null float64\n",
      "SibSp          891 non-null int64\n",
      "Parch          891 non-null int64\n",
      "Ticket         891 non-null object\n",
      "Fare           891 non-null float64\n",
      "Cabin          891 non-null object\n",
      "Embarked       891 non-null object\n",
      "Title          891 non-null object\n",
      "dtypes: float64(2), int64(5), object(6)\n",
      "memory usage: 90.6+ KB\n"
     ]
    }
   ],
   "source": [
    "# fill Cabin NaN with U for unknown\n",
    "data.Cabin = data.Cabin.fillna('U')\n",
    "# find most frequent Embarked value and store in variable\n",
    "most_embarked = data.Embarked.value_counts().index[0]\n",
    "\n",
    "# fill NaN with most_embarked value\n",
    "data.Embarked = data.Embarked.fillna(most_embarked)\n",
    "\n",
    "data.info()"
   ]
  },
  {
   "cell_type": "markdown",
   "metadata": {},
   "source": [
    "Following the steps in this article, two new features are created: Family size per passenger.The assumption is that it is more difficult for a larger family to secure a spot on a life boat, compared to a smaller size family. "
   ]
  },
  {
   "cell_type": "code",
   "execution_count": 51,
   "metadata": {
    "collapsed": true
   },
   "outputs": [],
   "source": [
    "# size of families (including the passenger)\n",
    "data['FamilySize'] = data.Parch + data.SibSp + 1"
   ]
  },
  {
   "cell_type": "markdown",
   "metadata": {},
   "source": [
    "Another feature is the Cabin feature. The first letter of the Cabin is extracted to represent the Cabin feature. A Kaggle discussion mentions that the first letter of the cabin indicates deck.(https://www.kaggle.com/c/titanic/discussion/4693) Also, pclass roughly matches the deck - that is, first class has the top decks (A-E), second class (D-F), and thrid class (E-G). The assumption is that passengers with a higher deck/pclass have a higher possibility to survive, because they are closer to lifeboats."
   ]
  },
  {
   "cell_type": "code",
   "execution_count": 52,
   "metadata": {
    "collapsed": true
   },
   "outputs": [],
   "source": [
    "# map first letter of cabin to itself\n",
    "data.Cabin = data.Cabin.map(lambda x: x[0])"
   ]
  },
  {
   "cell_type": "code",
   "execution_count": 53,
   "metadata": {},
   "outputs": [
    {
     "name": "stdout",
     "output_type": "stream",
     "text": [
      "<class 'pandas.core.frame.DataFrame'>\n",
      "RangeIndex: 891 entries, 0 to 890\n",
      "Data columns (total 14 columns):\n",
      "PassengerId    891 non-null int64\n",
      "Survived       891 non-null int64\n",
      "Pclass         891 non-null int64\n",
      "Name           891 non-null object\n",
      "Sex            891 non-null object\n",
      "Age            891 non-null float64\n",
      "SibSp          891 non-null int64\n",
      "Parch          891 non-null int64\n",
      "Ticket         891 non-null object\n",
      "Fare           891 non-null float64\n",
      "Cabin          891 non-null object\n",
      "Embarked       891 non-null object\n",
      "Title          891 non-null object\n",
      "FamilySize     891 non-null int64\n",
      "dtypes: float64(2), int64(6), object(6)\n",
      "memory usage: 97.5+ KB\n"
     ]
    }
   ],
   "source": [
    "data.info()"
   ]
  },
  {
   "cell_type": "code",
   "execution_count": 54,
   "metadata": {
    "scrolled": true
   },
   "outputs": [
    {
     "data": {
      "text/html": [
       "<div>\n",
       "<style>\n",
       "    .dataframe thead tr:only-child th {\n",
       "        text-align: right;\n",
       "    }\n",
       "\n",
       "    .dataframe thead th {\n",
       "        text-align: left;\n",
       "    }\n",
       "\n",
       "    .dataframe tbody tr th {\n",
       "        vertical-align: top;\n",
       "    }\n",
       "</style>\n",
       "<table border=\"1\" class=\"dataframe\">\n",
       "  <thead>\n",
       "    <tr style=\"text-align: right;\">\n",
       "      <th></th>\n",
       "      <th>PassengerId</th>\n",
       "      <th>Survived</th>\n",
       "      <th>Sex</th>\n",
       "      <th>Age</th>\n",
       "      <th>SibSp</th>\n",
       "      <th>Parch</th>\n",
       "      <th>Fare</th>\n",
       "      <th>FamilySize</th>\n",
       "      <th>Pclass_1</th>\n",
       "      <th>Pclass_2</th>\n",
       "      <th>...</th>\n",
       "      <th>Cabin_C</th>\n",
       "      <th>Cabin_D</th>\n",
       "      <th>Cabin_E</th>\n",
       "      <th>Cabin_F</th>\n",
       "      <th>Cabin_G</th>\n",
       "      <th>Cabin_T</th>\n",
       "      <th>Cabin_U</th>\n",
       "      <th>Embarked_C</th>\n",
       "      <th>Embarked_Q</th>\n",
       "      <th>Embarked_S</th>\n",
       "    </tr>\n",
       "  </thead>\n",
       "  <tbody>\n",
       "    <tr>\n",
       "      <th>0</th>\n",
       "      <td>1</td>\n",
       "      <td>0</td>\n",
       "      <td>0</td>\n",
       "      <td>22.0</td>\n",
       "      <td>1</td>\n",
       "      <td>0</td>\n",
       "      <td>7.2500</td>\n",
       "      <td>2</td>\n",
       "      <td>0</td>\n",
       "      <td>0</td>\n",
       "      <td>...</td>\n",
       "      <td>0</td>\n",
       "      <td>0</td>\n",
       "      <td>0</td>\n",
       "      <td>0</td>\n",
       "      <td>0</td>\n",
       "      <td>0</td>\n",
       "      <td>1</td>\n",
       "      <td>0</td>\n",
       "      <td>0</td>\n",
       "      <td>1</td>\n",
       "    </tr>\n",
       "    <tr>\n",
       "      <th>1</th>\n",
       "      <td>2</td>\n",
       "      <td>1</td>\n",
       "      <td>1</td>\n",
       "      <td>38.0</td>\n",
       "      <td>1</td>\n",
       "      <td>0</td>\n",
       "      <td>71.2833</td>\n",
       "      <td>2</td>\n",
       "      <td>1</td>\n",
       "      <td>0</td>\n",
       "      <td>...</td>\n",
       "      <td>1</td>\n",
       "      <td>0</td>\n",
       "      <td>0</td>\n",
       "      <td>0</td>\n",
       "      <td>0</td>\n",
       "      <td>0</td>\n",
       "      <td>0</td>\n",
       "      <td>1</td>\n",
       "      <td>0</td>\n",
       "      <td>0</td>\n",
       "    </tr>\n",
       "    <tr>\n",
       "      <th>2</th>\n",
       "      <td>3</td>\n",
       "      <td>1</td>\n",
       "      <td>1</td>\n",
       "      <td>26.0</td>\n",
       "      <td>0</td>\n",
       "      <td>0</td>\n",
       "      <td>7.9250</td>\n",
       "      <td>1</td>\n",
       "      <td>0</td>\n",
       "      <td>0</td>\n",
       "      <td>...</td>\n",
       "      <td>0</td>\n",
       "      <td>0</td>\n",
       "      <td>0</td>\n",
       "      <td>0</td>\n",
       "      <td>0</td>\n",
       "      <td>0</td>\n",
       "      <td>1</td>\n",
       "      <td>0</td>\n",
       "      <td>0</td>\n",
       "      <td>1</td>\n",
       "    </tr>\n",
       "    <tr>\n",
       "      <th>3</th>\n",
       "      <td>4</td>\n",
       "      <td>1</td>\n",
       "      <td>1</td>\n",
       "      <td>35.0</td>\n",
       "      <td>1</td>\n",
       "      <td>0</td>\n",
       "      <td>53.1000</td>\n",
       "      <td>2</td>\n",
       "      <td>1</td>\n",
       "      <td>0</td>\n",
       "      <td>...</td>\n",
       "      <td>1</td>\n",
       "      <td>0</td>\n",
       "      <td>0</td>\n",
       "      <td>0</td>\n",
       "      <td>0</td>\n",
       "      <td>0</td>\n",
       "      <td>0</td>\n",
       "      <td>0</td>\n",
       "      <td>0</td>\n",
       "      <td>1</td>\n",
       "    </tr>\n",
       "    <tr>\n",
       "      <th>4</th>\n",
       "      <td>5</td>\n",
       "      <td>0</td>\n",
       "      <td>0</td>\n",
       "      <td>35.0</td>\n",
       "      <td>0</td>\n",
       "      <td>0</td>\n",
       "      <td>8.0500</td>\n",
       "      <td>1</td>\n",
       "      <td>0</td>\n",
       "      <td>0</td>\n",
       "      <td>...</td>\n",
       "      <td>0</td>\n",
       "      <td>0</td>\n",
       "      <td>0</td>\n",
       "      <td>0</td>\n",
       "      <td>0</td>\n",
       "      <td>0</td>\n",
       "      <td>1</td>\n",
       "      <td>0</td>\n",
       "      <td>0</td>\n",
       "      <td>1</td>\n",
       "    </tr>\n",
       "  </tbody>\n",
       "</table>\n",
       "<p>5 rows × 29 columns</p>\n",
       "</div>"
      ],
      "text/plain": [
       "   PassengerId  Survived  Sex   Age  SibSp  Parch     Fare  FamilySize  \\\n",
       "0            1         0    0  22.0      1      0   7.2500           2   \n",
       "1            2         1    1  38.0      1      0  71.2833           2   \n",
       "2            3         1    1  26.0      0      0   7.9250           1   \n",
       "3            4         1    1  35.0      1      0  53.1000           2   \n",
       "4            5         0    0  35.0      0      0   8.0500           1   \n",
       "\n",
       "   Pclass_1  Pclass_2     ...      Cabin_C  Cabin_D  Cabin_E  Cabin_F  \\\n",
       "0         0         0     ...            0        0        0        0   \n",
       "1         1         0     ...            1        0        0        0   \n",
       "2         0         0     ...            0        0        0        0   \n",
       "3         1         0     ...            1        0        0        0   \n",
       "4         0         0     ...            0        0        0        0   \n",
       "\n",
       "   Cabin_G  Cabin_T  Cabin_U  Embarked_C  Embarked_Q  Embarked_S  \n",
       "0        0        0        1           0           0           1  \n",
       "1        0        0        0           1           0           0  \n",
       "2        0        0        1           0           0           1  \n",
       "3        0        0        0           0           0           1  \n",
       "4        0        0        1           0           0           1  \n",
       "\n",
       "[5 rows x 29 columns]"
      ]
     },
     "execution_count": 54,
     "metadata": {},
     "output_type": "execute_result"
    }
   ],
   "source": [
    "# Convert categorical features into dummy variables.\n",
    "# Convert the male and female groups to integer form\n",
    "data.Sex = data.Sex.map({\"male\": 0, \"female\":1})\n",
    "# create dummy variables for categorical features\n",
    "pclass_dummies = pd.get_dummies(data.Pclass, prefix=\"Pclass\")\n",
    "title_dummies = pd.get_dummies(data.Title, prefix=\"Title\")\n",
    "cabin_dummies = pd.get_dummies(data.Cabin, prefix=\"Cabin\")\n",
    "embarked_dummies = pd.get_dummies(data.Embarked, prefix=\"Embarked\")\n",
    "# concatenate dummy columns with main dataset\n",
    "data_dummies = pd.concat([data, pclass_dummies, title_dummies, cabin_dummies, embarked_dummies], axis=1)\n",
    "\n",
    "# drop categorical fields\n",
    "data_dummies.drop(['Pclass', 'Title', 'Cabin', 'Embarked', 'Name', 'Ticket'], axis=1, inplace=True)\n",
    "\n",
    "data_dummies.head()"
   ]
  },
  {
   "cell_type": "code",
   "execution_count": 55,
   "metadata": {},
   "outputs": [
    {
     "name": "stdout",
     "output_type": "stream",
     "text": [
      "<class 'pandas.core.frame.DataFrame'>\n",
      "RangeIndex: 891 entries, 0 to 890\n",
      "Data columns (total 29 columns):\n",
      "PassengerId      891 non-null int64\n",
      "Survived         891 non-null int64\n",
      "Sex              891 non-null int64\n",
      "Age              891 non-null float64\n",
      "SibSp            891 non-null int64\n",
      "Parch            891 non-null int64\n",
      "Fare             891 non-null float64\n",
      "FamilySize       891 non-null int64\n",
      "Pclass_1         891 non-null uint8\n",
      "Pclass_2         891 non-null uint8\n",
      "Pclass_3         891 non-null uint8\n",
      "Title_Master     891 non-null uint8\n",
      "Title_Miss       891 non-null uint8\n",
      "Title_Mr         891 non-null uint8\n",
      "Title_Mrs        891 non-null uint8\n",
      "Title_Officer    891 non-null uint8\n",
      "Title_Royalty    891 non-null uint8\n",
      "Cabin_A          891 non-null uint8\n",
      "Cabin_B          891 non-null uint8\n",
      "Cabin_C          891 non-null uint8\n",
      "Cabin_D          891 non-null uint8\n",
      "Cabin_E          891 non-null uint8\n",
      "Cabin_F          891 non-null uint8\n",
      "Cabin_G          891 non-null uint8\n",
      "Cabin_T          891 non-null uint8\n",
      "Cabin_U          891 non-null uint8\n",
      "Embarked_C       891 non-null uint8\n",
      "Embarked_Q       891 non-null uint8\n",
      "Embarked_S       891 non-null uint8\n",
      "dtypes: float64(2), int64(6), uint8(21)\n",
      "memory usage: 74.0 KB\n"
     ]
    }
   ],
   "source": [
    "data_dummies.info()"
   ]
  },
  {
   "cell_type": "code",
   "execution_count": 56,
   "metadata": {
    "collapsed": true
   },
   "outputs": [],
   "source": [
    "Xdf=data_dummies[['Sex','Age','SibSp','Parch','Fare','FamilySize','Pclass_1','Pclass_2','Pclass_3',\n",
    "                'Title_Master','Title_Miss','Title_Mr','Title_Mrs','Title_Officer','Title_Royalty','Cabin_A','Cabin_B',         \n",
    "                'Cabin_C','Cabin_D','Cabin_E','Cabin_F','Cabin_G','Cabin_T','Cabin_U','Embarked_C','Embarked_Q','Embarked_S']]\n",
    "Ydf=data_dummies[['Survived']]"
   ]
  },
  {
   "cell_type": "code",
   "execution_count": 57,
   "metadata": {
    "collapsed": true
   },
   "outputs": [],
   "source": [
    "X=Xdf.values\n",
    "Y=Ydf.values"
   ]
  },
  {
   "cell_type": "code",
   "execution_count": 58,
   "metadata": {},
   "outputs": [
    {
     "name": "stdout",
     "output_type": "stream",
     "text": [
      "Training set in Titanic survival classification model has 668 samples.\n",
      "Testing set in Titanic survival classification model has 223 samples.\n"
     ]
    }
   ],
   "source": [
    "# Split data into train and  test sets\n",
    "X_train, X_test, y_train, y_test = train_test_split(X, Y, test_size = 0.25, random_state = 0)\n",
    "print (\"Training set in Titanic survival classification model has {} samples.\".format(X_train.shape[0]))\n",
    "print (\"Testing set in Titanic survival classification model has {} samples.\".format(X_test.shape[0]))"
   ]
  },
  {
   "cell_type": "code",
   "execution_count": 59,
   "metadata": {},
   "outputs": [
    {
     "name": "stdout",
     "output_type": "stream",
     "text": [
      "Accuracy score (train set, baseline - unpruned, no cross validation): 0.988024\n",
      "Model Training Time (s):   0.00345\n",
      "Model Prediction Time (s): 0.00030\n",
      "\n"
     ]
    }
   ],
   "source": [
    "# Decision Tree\n",
    "import timeit\n",
    "import time\n",
    "# Baseline (no pruning)\n",
    "\n",
    "start_time = timeit.default_timer()\n",
    "\n",
    "decisiontree0 = DecisionTreeClassifier(random_state=0)\n",
    "decisiontree0.fit(X_train, y_train)\n",
    "end_time = timeit.default_timer()\n",
    "training_time = end_time - start_time\n",
    "\n",
    "start_time = timeit.default_timer() \n",
    "\n",
    "Y_pred0 = decisiontree0.predict(X_test)\n",
    "end_time = timeit.default_timer()\n",
    "pred_time = end_time - start_time\n",
    "\n",
    "acctrain_decisiontree0 = round(decisiontree0.score(X_train, y_train), 6)\n",
    "\n",
    "print('Accuracy score (train set, baseline - unpruned, no cross validation):', acctrain_decisiontree0)\n",
    "print(\"Model Training Time (s):   \"+\"{:.5f}\".format(training_time))\n",
    "print(\"Model Prediction Time (s): \"+\"{:.5f}\\n\".format(pred_time))  "
   ]
  },
  {
   "cell_type": "code",
   "execution_count": 60,
   "metadata": {},
   "outputs": [
    {
     "name": "stdout",
     "output_type": "stream",
     "text": [
      "Accuracy score (test set, baseline - unpruned): 0.798\n",
      "Accuracy score (test set, baseline - unpruned): 0.788\n"
     ]
    }
   ],
   "source": [
    "acctest_decisiontree0 = round(accuracy_score(Y_pred0, y_test), 3)\n",
    "print('Accuracy score (test set, baseline - unpruned):', acctest_decisiontree0)\n",
    "auc_decisiontree0 = round(roc_auc_score(Y_pred0, y_test),3)\n",
    "print('Accuracy score (test set, baseline - unpruned):', auc_decisiontree0)"
   ]
  },
  {
   "cell_type": "code",
   "execution_count": 19,
   "metadata": {},
   "outputs": [
    {
     "data": {
      "image/png": "[encoded data removed]",
      "text/plain": [
       "<matplotlib.figure.Figure at 0x1cd57cfd390>"
      ]
     },
     "metadata": {},
     "output_type": "display_data"
    }
   ],
   "source": [
    "# Decision Tree Parameter Tuning - max depth:\n",
    "max_depths = np.linspace(1, 30, 30, endpoint=True)\n",
    "train_results = []\n",
    "test_results = []\n",
    "for max_depth in max_depths:\n",
    "   dt= DecisionTreeClassifier( max_depth=max_depth)\n",
    "   dt.fit(X_train, y_train)\n",
    "   train_pred = dt.predict(X_train)\n",
    "   false_positive_rate, true_positive_rate, thresholds = roc_curve(y_train, train_pred)\n",
    "   roc_auc = auc(false_positive_rate, true_positive_rate)\n",
    "   train_results.append(roc_auc)\n",
    "   y_pred = dt.predict(X_test)\n",
    "   false_positive_rate, true_positive_rate, thresholds = roc_curve(y_test, y_pred)\n",
    "   roc_auc = auc(false_positive_rate, true_positive_rate)\n",
    "   test_results.append(roc_auc)\n",
    "    \n",
    "from matplotlib.legend_handler import HandlerLine2D\n",
    "line1, = plt.plot(max_depths, train_results, 'b', label='Train AUC')\n",
    "line2, = plt.plot(max_depths, test_results, 'r', label='Test AUC')\n",
    "plt.legend(handler_map={line1: HandlerLine2D(numpoints=2)})\n",
    "plt.ylabel('AUC score')\n",
    "plt.xlabel('Tree depth (Titanic)')\n",
    "plt.show()"
   ]
  },
  {
   "cell_type": "code",
   "execution_count": 21,
   "metadata": {},
   "outputs": [
    {
     "data": {
      "image/png": "[encoded data removed]",
      "text/plain": [
       "<matplotlib.figure.Figure at 0x1cd5e126518>"
      ]
     },
     "metadata": {},
     "output_type": "display_data"
    }
   ],
   "source": [
    "# chart does not report in the final report.\n",
    "#min_samples_splits = np.linspace(0.0001,1,40, endpoint=True)\n",
    "min_samples_splits = (2,5,10,15,20,100,200)\n",
    "train_results = []\n",
    "test_results = []\n",
    "for min_samples_split in min_samples_splits:\n",
    "    dt = DecisionTreeClassifier(min_samples_split=min_samples_split)\n",
    "    dt.fit(X_train, y_train)\n",
    "    train_pred = dt.predict(X_train)\n",
    "    false_positive_rate, true_positive_rate, thresholds =    roc_curve(y_train, train_pred)\n",
    "    roc_auc = auc(false_positive_rate, true_positive_rate)\n",
    "    train_results.append(roc_auc)\n",
    "    y_pred = dt.predict(X_test)\n",
    "    false_positive_rate, true_positive_rate, thresholds = roc_curve(y_test, y_pred)\n",
    "    roc_auc = auc(false_positive_rate, true_positive_rate)\n",
    "    test_results.append(roc_auc)\n",
    "from matplotlib.legend_handler import HandlerLine2D\n",
    "line1, = plt.plot(min_samples_splits, train_results, 'b', label='Train AUC')\n",
    "line2, = plt.plot(min_samples_splits, test_results, 'r', label='Test AUC')\n",
    "plt.legend(handler_map={line1: HandlerLine2D(numpoints=2)})\n",
    "plt.ylabel('AUC score')\n",
    "plt.xlabel('min samples split')\n",
    "\n",
    "plt.show()\n"
   ]
  },
  {
   "cell_type": "code",
   "execution_count": 22,
   "metadata": {},
   "outputs": [
    {
     "name": "stdout",
     "output_type": "stream",
     "text": [
      "process time total:1.62 seconds\n"
     ]
    }
   ],
   "source": [
    "# Decision Tree (some pruning, Grid Search)\n",
    "\n",
    "from sklearn.model_selection import train_test_split, GridSearchCV, StratifiedKFold\n",
    "#grid search\n",
    "start_time=time.time()\n",
    "\n",
    "max_depth_arr = range(1,10,1)\n",
    "min_samples_split_arr = range(2,10,1)\n",
    "\n",
    "parameters= [{'max_depth': max_depth_arr, 'min_samples_split':min_samples_split_arr}]\n",
    "\n",
    "gs_dt=GridSearchCV(estimator=decisiontree0,param_grid=parameters,scoring = 'roc_auc', n_jobs=-1,cv=5)\n",
    "gs_dt.fit(X_train,y_train)\n",
    "\n",
    "print(\"process time total:{:.2f} seconds\".format(time.time()-start_time))\n"
   ]
  },
  {
   "cell_type": "code",
   "execution_count": 23,
   "metadata": {},
   "outputs": [
    {
     "name": "stdout",
     "output_type": "stream",
     "text": [
      "best score: 0.843308884934\n",
      "best param: {'max_depth': 4, 'min_samples_split': 8}\n"
     ]
    }
   ],
   "source": [
    "print(\"best score: %s\" % gs_dt.best_score_)\n",
    "print(\"best param: %s\" % gs_dt.best_params_)"
   ]
  },
  {
   "cell_type": "code",
   "execution_count": 54,
   "metadata": {},
   "outputs": [
    {
     "name": "stdout",
     "output_type": "stream",
     "text": [
      "process time total:1549467656.27 seconds\n"
     ]
    },
    {
     "data": {
      "image/png": "[encoded data removed]",
      "text/plain": [
       "<matplotlib.figure.Figure at 0x1cd5f7c2dd8>"
      ]
     },
     "metadata": {},
     "output_type": "display_data"
    },
    {
     "name": "stdout",
     "output_type": "stream",
     "text": [
      "Model Training Time (s):   0.00173\n",
      "Model Prediction Time (s): 0.00022\n",
      "\n"
     ]
    }
   ],
   "source": [
    "#Re-run DT with the best parameters reported in Grid Search\n",
    "#start_time=time.time()\n",
    "start_time = timeit.default_timer()\n",
    "\n",
    "decisiontree1 = DecisionTreeClassifier(max_depth=4, min_samples_split=8)\n",
    "print(\"process time total:{:.2f} seconds\".format(time.time()-start_time))\n",
    "# Training\n",
    "decisiontree1.fit(X_train, y_train)\n",
    "end_time = timeit.default_timer()\n",
    "training_time = end_time - start_time\n",
    "\n",
    "start_time = timeit.default_timer()\n",
    "Y_pred = decisiontree1.predict(X_test)\n",
    "end_time = timeit.default_timer()\n",
    "predict_time = end_time - start_time\n",
    "\n",
    "Y_pred_proba = decisiontree1.predict_proba(X_test)[:,1]\n",
    "fpr,tpr,thresholds = metrics.roc_curve(y_test,Y_pred_proba)\n",
    "\n",
    "Y_pred0_proba=decisiontree0.predict_proba(X_test)[:,1]\n",
    "fpr0, tpr0, thresholds0=metrics.roc_curve(y_test, Y_pred0_proba)\n",
    "\n",
    "# Plotting and printing\n",
    "plt.plot(fpr,tpr,label='Decision Tree (Titanic) - pruned')\n",
    "plt.plot(fpr0,tpr0,label='Decision Tree (Titanic) - baseline')\n",
    "plt.xlabel ('false positive rate')\n",
    "plt.ylabel ('true positive rate')\n",
    "plt.legend(loc='lower right',shadow=True)\n",
    "lw=2\n",
    "plt.plot([0, 1], [0, 1], color='navy', lw=lw, linestyle='--')\n",
    "plt.xlim([0.0, 1.0])\n",
    "plt.ylim([0.0, 1.0])\n",
    "plt.show()\n",
    "print(\"Model Training Time (s):   \"+\"{:.5f}\".format(training_time))\n",
    "print(\"Model Prediction Time (s): \"+\"{:.5f}\\n\".format(pred_time))  \n",
    "#print(\"roc_auc score: %s\" % metrics.roc_auc_score(y_test,Y_pred_proba))\n",
    "#print(\"accuracy score: %s\" % metrics.accuracy_score(y_test,Y_pred))\n",
    "#print(\"precision score: %s\" % metrics.precision_score(y_test,Y_pred))\n",
    "#print(\"recall score: %s\" % metrics.recall_score(y_test,Y_pred))\n",
    "#print(\"F1 score: %s\" % metrics.f1_score(y_test,Y_pred))"
   ]
  },
  {
   "cell_type": "code",
   "execution_count": 25,
   "metadata": {},
   "outputs": [
    {
     "name": "stdout",
     "output_type": "stream",
     "text": [
      "Accuracy score (train set, pruned, no cross validation): 0.859\n"
     ]
    }
   ],
   "source": [
    "#acctrain_decisiontree1 = round(decisiontree1.score(X_train, y_train), 3)\n",
    "#print('Accuracy score (train set, pruned, no cross validation):', acctrain_decisiontree1)"
   ]
  },
  {
   "cell_type": "code",
   "execution_count": 53,
   "metadata": {},
   "outputs": [
    {
     "name": "stdout",
     "output_type": "stream",
     "text": [
      "Accuracy score (test set, pruned): 0.807\n",
      "ROC score (test set, baseline - unpruned): 0.804\n"
     ]
    }
   ],
   "source": [
    "acctest_decisiontree1 = round(accuracy_score(Y_pred, y_test), 3)\n",
    "print('Accuracy score (test set, pruned):', acctest_decisiontree1)\n",
    "roc_dt1 = round(roc_auc_score(Y_pred, y_test),3)\n",
    "print('ROC score (test set, baseline - unpruned):', roc_dt1)"
   ]
  },
  {
   "cell_type": "code",
   "execution_count": 35,
   "metadata": {},
   "outputs": [
    {
     "name": "stdout",
     "output_type": "stream",
     "text": [
      "Decision Tree Accuracy Train Set (CV/Mean):  0.843310157083\n",
      "process time total:2.70 seconds\n",
      "Decision Tree Accuracy Train Set (CV/SD):  0.0362044373441\n"
     ]
    }
   ],
   "source": [
    "# cross validation (train set)\n",
    "start_time=time.time()\n",
    "scoresDT = cross_val_score(decisiontree1, X_train, y_train, cv = 5, scoring = 'roc_auc', n_jobs=-1)\n",
    "print('Decision Tree Accuracy Train Set (CV/Mean): ', np.mean(scoresDT))\n",
    "print(\"process time total:{:.2f} seconds\".format(time.time()-start_time))\n",
    "print('Decision Tree Accuracy Train Set (CV/SD): ', np.std(scoresDT))\n",
    "# The cross_val_score returns the accuracy for all the folds"
   ]
  },
  {
   "cell_type": "code",
   "execution_count": 61,
   "metadata": {},
   "outputs": [
    {
     "data": {
      "image/png": "[encoded data removed]",
      "text/plain": [
       "<matplotlib.figure.Figure at 0xc6e69b0>"
      ]
     },
     "metadata": {},
     "output_type": "display_data"
    }
   ],
   "source": [
    "# learning curve\n",
    "from sklearn.model_selection import learning_curve\n",
    "from sklearn.model_selection import ShuffleSplit\n",
    "\n",
    "def plot_learning_curve(estimator, title, X, y, ylim=None, cv=None,\n",
    "                        n_jobs=None, train_sizes=np.linspace(.1, 1.0, 5)):\n",
    "    \n",
    "    plt.figure()\n",
    "    plt.title(title)\n",
    "    if ylim is not None:\n",
    "        plt.ylim(*ylim)\n",
    "    plt.xlabel(\"Training examples\")\n",
    "    plt.ylabel(\"Score\")\n",
    "    train_sizes, train_scores, test_scores = learning_curve(\n",
    "        estimator, X, y, cv=cv, n_jobs=n_jobs, train_sizes=train_sizes)\n",
    "    train_scores_mean = np.mean(train_scores, axis=1)\n",
    "    train_scores_std = np.std(train_scores, axis=1)\n",
    "    test_scores_mean = np.mean(test_scores, axis=1)\n",
    "    test_scores_std = np.std(test_scores, axis=1)\n",
    "    plt.grid()\n",
    "\n",
    "    plt.fill_between(train_sizes, train_scores_mean - train_scores_std,\n",
    "                     train_scores_mean + train_scores_std, alpha=0.1,\n",
    "                     color=\"r\")\n",
    "    plt.fill_between(train_sizes, test_scores_mean - test_scores_std,\n",
    "                     test_scores_mean + test_scores_std, alpha=0.1, color=\"g\")\n",
    "    plt.plot(train_sizes, train_scores_mean, 'o-', color=\"r\",\n",
    "             label=\"Training score\")\n",
    "    plt.plot(train_sizes, test_scores_mean, 'o-', color=\"g\",\n",
    "             label=\"Cross-validation score\")\n",
    "\n",
    "    plt.legend(loc=\"best\")\n",
    "    return plt\n",
    "title = \"Learning Curves (Decision Tree - Titanic, max_depth=4, min_samples_splits=8)\"\n",
    "# Cross validation with 100 iterations to get smoother mean test and train\n",
    "# score curves, each time with 20% data randomly selected as a validation set.\n",
    "cv = ShuffleSplit(n_splits=100, test_size=0.2, random_state=0)\n",
    "\n",
    "estimator = DecisionTreeClassifier(max_depth=4, min_samples_split=8)\n",
    "\n",
    "plot_learning_curve(estimator, title, X, Y, ylim=(0.7, 1.01), cv=cv, n_jobs=-1)\n",
    "\n",
    "plt.show()"
   ]
  },
  {
   "cell_type": "code",
   "execution_count": 33,
   "metadata": {},
   "outputs": [
    {
     "name": "stdout",
     "output_type": "stream",
     "text": [
      "             precision    recall  f1-score   support\n",
      "\n",
      "          0       0.81      0.90      0.85       139\n",
      "          1       0.80      0.65      0.72        84\n",
      "\n",
      "avg / total       0.81      0.81      0.80       223\n",
      "\n"
     ]
    }
   ],
   "source": [
    "print(classification_report(y_test,Y_pred))"
   ]
  },
  {
   "cell_type": "code",
   "execution_count": 34,
   "metadata": {},
   "outputs": [
    {
     "name": "stdout",
     "output_type": "stream",
     "text": [
      "             precision    recall  f1-score   support\n",
      "\n",
      "          0       0.81      0.86      0.84       139\n",
      "          1       0.75      0.67      0.70        84\n",
      "\n",
      "avg / total       0.79      0.79      0.79       223\n",
      "\n"
     ]
    }
   ],
   "source": [
    "print(classification_report(y_test,Y_pred0))"
   ]
  },
  {
   "cell_type": "markdown",
   "metadata": {},
   "source": [
    "https://perso.limsi.fr/annlor/enseignement/ensiie/Intro_ML_Python.pdf\n",
    "MLPClassifier"
   ]
  },
  {
   "cell_type": "code",
   "execution_count": 62,
   "metadata": {},
   "outputs": [
    {
     "name": "stdout",
     "output_type": "stream",
     "text": [
      "Accuracy score (train set, baseline - no cross validation): 0.846\n",
      "Model Training Time (s):   0.24109\n",
      "Model Prediction Time (s): 0.00030\n",
      "\n"
     ]
    }
   ],
   "source": [
    "# Neural Networks\n",
    "# Baseline (no pruning)\n",
    "start_time = timeit.default_timer()\n",
    "\n",
    "neuraln0 = MLPClassifier(random_state=1)\n",
    "neuraln0.fit(X_train, y_train.ravel())\n",
    "end_time = timeit.default_timer()\n",
    "training_time = end_time - start_time\n",
    "\n",
    "start_time = timeit.default_timer()\n",
    "Y_pred0 = neuraln0.predict(X_test)\n",
    "end_time = timeit.default_timer()\n",
    "predict_time = end_time - start_time\n",
    "\n",
    "acctrain_neuraln0 = round(neuraln0.score(X_train, y_train), 3)\n",
    "print('Accuracy score (train set, baseline - no cross validation):', acctrain_neuraln0)\n",
    "print(\"Model Training Time (s):   \"+\"{:.5f}\".format(training_time))\n",
    "print(\"Model Prediction Time (s): \"+\"{:.5f}\\n\".format(pred_time))  \n"
   ]
  },
  {
   "cell_type": "code",
   "execution_count": 29,
   "metadata": {},
   "outputs": [
    {
     "name": "stdout",
     "output_type": "stream",
     "text": [
      "Accuracy score (test set, baseline): 0.816\n",
      "Accuracy score (test set, baseline - unpruned): 0.805\n"
     ]
    }
   ],
   "source": [
    "acctest_neuraln0 = round(accuracy_score(Y_pred0, y_test) , 3)\n",
    "print('Accuracy score (test set, baseline):', acctest_neuraln0)\n",
    "auc_neuraln0 = round(roc_auc_score(Y_pred0, y_test),3)\n",
    "print('Accuracy score (test set, baseline - unpruned):', auc_neuraln0)"
   ]
  },
  {
   "cell_type": "code",
   "execution_count": 35,
   "metadata": {},
   "outputs": [
    {
     "name": "stderr",
     "output_type": "stream",
     "text": [
      "C:\\Users\\E015919\\AppData\\Local\\Continuum\\anaconda3\\lib\\site-packages\\sklearn\\neural_network\\multilayer_perceptron.py:564: ConvergenceWarning: Stochastic Optimizer: Maximum iterations (200) reached and the optimization hasn't converged yet.\n",
      "  % self.max_iter, ConvergenceWarning)\n"
     ]
    },
    {
     "name": "stdout",
     "output_type": "stream",
     "text": [
      "[0.81427491019096243, 0.79927207411609003, 0.66202495745887702]\n",
      "[0.7910243233984241, 0.79586330935251792, 0.65202124015073648]\n"
     ]
    },
    {
     "data": {
      "image/png": "[encoded data removed]",
      "text/plain": [
       "<matplotlib.figure.Figure at 0x1cd5e5461d0>"
      ]
     },
     "metadata": {},
     "output_type": "display_data"
    }
   ],
   "source": [
    "# NN Parameter Tuning - hidden layer:\n",
    "hidden_layer_sizes =  [(5,), (5,2), (5,3)]\n",
    "train_results = []\n",
    "test_results = []\n",
    "for hidden_layer_sizes in hidden_layer_sizes:\n",
    "    nn= MLPClassifier( hidden_layer_sizes=hidden_layer_sizes)\n",
    "    nn.fit(X_train, y_train.ravel())\n",
    "    train_pred = nn.predict(X_train)\n",
    "    false_positive_rate, true_positive_rate, thresholds = roc_curve(y_train, train_pred)\n",
    "    roc_auc = auc(false_positive_rate, true_positive_rate)\n",
    "    train_results.append(roc_auc)\n",
    "    y_pred = nn.predict(X_test)\n",
    "    false_positive_rate, true_positive_rate, thresholds = roc_curve(y_test, y_pred)\n",
    "    roc_auc = auc(false_positive_rate, true_positive_rate)\n",
    "    test_results.append(roc_auc)\n",
    "\n",
    "print(train_results)\n",
    "print(test_results)\n",
    "\n",
    "from matplotlib.legend_handler import HandlerLine2D\n",
    "line1, = plt.plot([\"(5,)\" ,\"(5,2)\",\"(5,3)\" ], train_results, 'b', label='Train AUC')\n",
    "line2, = plt.plot([\"(5,)\",\"(5,2)\",\"(5,3)\"], test_results, 'r', label='Test AUC')\n",
    "plt.legend(handler_map={line1: HandlerLine2D(numpoints=2)})\n",
    "plt.ylabel('AUC score')\n",
    "plt.xlabel('Hidden Layers (Tiantic)')\n",
    "plt.show()"
   ]
  },
  {
   "cell_type": "code",
   "execution_count": 51,
   "metadata": {},
   "outputs": [
    {
     "name": "stderr",
     "output_type": "stream",
     "text": [
      "C:\\Users\\E015919\\AppData\\Local\\Continuum\\anaconda3\\lib\\site-packages\\sklearn\\neural_network\\multilayer_perceptron.py:912: DataConversionWarning: A column-vector y was passed when a 1d array was expected. Please change the shape of y to (n_samples, ), for example using ravel().\n",
      "  y = column_or_1d(y, warn=True)\n"
     ]
    },
    {
     "data": {
      "image/png": "[encoded data removed]",
      "text/plain": [
       "<matplotlib.figure.Figure at 0xd55b4a8>"
      ]
     },
     "metadata": {},
     "output_type": "display_data"
    }
   ],
   "source": [
    "alpha_arr = [0.0001,0.001,0.01,0.1]\n",
    "train_results = []\n",
    "test_results = []\n",
    "for alpha in alpha_arr:\n",
    "    nn= MLPClassifier( alpha=alpha)\n",
    "    nn.fit(X_train, y_train)\n",
    "    train_pred = nn.predict(X_train)\n",
    "    false_positive_rate, true_positive_rate, thresholds = roc_curve(y_train, train_pred)\n",
    "    roc_auc = auc(false_positive_rate, true_positive_rate)\n",
    "    train_results.append(roc_auc)\n",
    "    y_pred = nn.predict(X_test)\n",
    "    false_positive_rate, true_positive_rate, thresholds = roc_curve(y_test, y_pred)\n",
    "    roc_auc = auc(false_positive_rate, true_positive_rate)\n",
    "    test_results.append(roc_auc)\n",
    "    \n",
    "from matplotlib.legend_handler import HandlerLine2D\n",
    "line1, = plt.plot(alpha_arr, train_results, 'b', label='Train AUC')\n",
    "line2, = plt.plot(alpha_arr, test_results, 'r', label='Test AUC')\n",
    "plt.legend(handler_map={line1: HandlerLine2D(numpoints=2)})\n",
    "plt.ylabel('AUC score (Titanic)')\n",
    "plt.xlabel('alpha (Titanic)')\n",
    "\n",
    "plt.show()\n"
   ]
  },
  {
   "cell_type": "code",
   "execution_count": 40,
   "metadata": {},
   "outputs": [
    {
     "name": "stdout",
     "output_type": "stream",
     "text": [
      "Fitting 5 folds for each of 8 candidates, totalling 40 fits\n"
     ]
    },
    {
     "name": "stderr",
     "output_type": "stream",
     "text": [
      "[Parallel(n_jobs=-1)]: Done  40 out of  40 | elapsed:    6.5s finished\n",
      "C:\\Users\\E015919\\AppData\\Local\\Continuum\\anaconda3\\lib\\site-packages\\sklearn\\neural_network\\multilayer_perceptron.py:912: DataConversionWarning: A column-vector y was passed when a 1d array was expected. Please change the shape of y to (n_samples, ), for example using ravel().\n",
      "  y = column_or_1d(y, warn=True)\n"
     ]
    },
    {
     "name": "stdout",
     "output_type": "stream",
     "text": [
      "process time total:7.02 seconds\n"
     ]
    }
   ],
   "source": [
    "start_time=time.time()\n",
    "\n",
    "\n",
    "MLP = MLPClassifier()\n",
    "mlp_param_grid = {'hidden_layer_sizes' : [(5,),(8,),(20,),(100,)],\n",
    "                  'solver' : ['lbfgs','adam'],\n",
    "                   'max_iter':[1000]}\n",
    "\n",
    "gsMLP = GridSearchCV(MLP,param_grid = mlp_param_grid, cv=5, scoring='accuracy',n_jobs=-1,verbose=1)\n",
    "gsMLP.fit(X_train,y_train)\n",
    "MLP_best = gsMLP.best_estimator_\n",
    "\n",
    "#gsMLP.best_score_\n",
    "\n",
    "print(\"process time total:{:.2f} seconds\".format(time.time()-start_time))\n"
   ]
  },
  {
   "cell_type": "code",
   "execution_count": 41,
   "metadata": {},
   "outputs": [
    {
     "name": "stdout",
     "output_type": "stream",
     "text": [
      "best score: 0.832335329341\n",
      "best param: {'hidden_layer_sizes': (8,), 'max_iter': 1000, 'solver': 'lbfgs'}\n"
     ]
    }
   ],
   "source": [
    "print(\"best score: %s\" % gsMLP.best_score_)\n",
    "print(\"best param: %s\" % gsMLP.best_params_)"
   ]
  },
  {
   "cell_type": "code",
   "execution_count": 55,
   "metadata": {},
   "outputs": [
    {
     "name": "stderr",
     "output_type": "stream",
     "text": [
      "C:\\Users\\E015919\\AppData\\Local\\Continuum\\anaconda3\\lib\\site-packages\\sklearn\\neural_network\\multilayer_perceptron.py:912: DataConversionWarning: A column-vector y was passed when a 1d array was expected. Please change the shape of y to (n_samples, ), for example using ravel().\n",
      "  y = column_or_1d(y, warn=True)\n"
     ]
    },
    {
     "data": {
      "image/png": "[encoded data removed]",
      "text/plain": [
       "<matplotlib.figure.Figure at 0x1cd5e546cc0>"
      ]
     },
     "metadata": {},
     "output_type": "display_data"
    },
    {
     "name": "stdout",
     "output_type": "stream",
     "text": [
      "Model Training Time (s):   0.29766\n",
      "Model Prediction Time (s): 0.00022\n",
      "\n"
     ]
    }
   ],
   "source": [
    "#Re-run DT with the best parameters reported in Grid Search\n",
    "\n",
    "neuraln1 = MLPClassifier(max_iter=1000,solver='lbfgs',hidden_layer_sizes=[8,],random_state=1)\n",
    "\n",
    "# Training\n",
    "start_time = timeit.default_timer()\n",
    "\n",
    "neuraln1.fit(X_train, y_train)\n",
    "end_time = timeit.default_timer()\n",
    "training_time = end_time - start_time\n",
    "\n",
    "start_time = timeit.default_timer()\n",
    "Y_pred = neuraln1.predict(X_test)\n",
    "end_time = timeit.default_timer()\n",
    "predict_time = end_time - start_time\n",
    "\n",
    "Y_pred_proba = neuraln1.predict_proba(X_test)[:,1]\n",
    "fpr,tpr,thresholds = metrics.roc_curve(y_test,Y_pred_proba)\n",
    "\n",
    "Y_pred0_proba=neuraln0.predict_proba(X_test)[:,1]\n",
    "fpr0, tpr0, thresholds0=metrics.roc_curve(y_test, Y_pred0_proba)\n",
    "\n",
    "pruned_roc_auc= roc_auc_score(y_test, neuraln1.predict(X_test))\n",
    "baseline_roc_auc = roc_auc_score(y_test, neuraln0.predict(X_test))\n",
    "# Plotting and printing\n",
    "\n",
    "#plt.plot(fpr,tpr,label='Neural Network - pruned(area = %0.4f)'% pruned_roc_auc)\n",
    "#plt.plot(fpr0,tpr0,label='Neural Network - baseline(area = %0.4f)'% baseline_roc_auc)\n",
    "plt.plot(fpr,tpr,label='Neural Network (Titanic)- pruned')\n",
    "plt.plot(fpr0,tpr0,label='Neural Network (Tiantic) - baseline')\n",
    "plt.xlabel ('false positive rate')\n",
    "plt.ylabel ('true positive rate')\n",
    "plt.legend(loc='lower right',shadow=True)\n",
    "lw=2\n",
    "plt.plot([0, 1], [0, 1], color='navy', lw=lw, linestyle='--')\n",
    "plt.xlim([0.0, 1.0])\n",
    "plt.ylim([0.0, 1.0])\n",
    "plt.show()\n",
    "print(\"Model Training Time (s):   \"+\"{:.5f}\".format(training_time))\n",
    "print(\"Model Prediction Time (s): \"+\"{:.5f}\\n\".format(pred_time))  \n",
    "#print(\"roc_auc score: %s\" % metrics.roc_auc_score(y_test,Y_pred_proba))\n",
    "#print(\"accuracy score: %s\" % metrics.accuracy_score(y_test,Y_pred))\n",
    "#print(\"precision score: %s\" % metrics.precision_score(y_test,Y_pred))\n",
    "#print(\"recall score: %s\" % metrics.recall_score(y_test,Y_pred))\n",
    "#print(\"F1 score: %s\" % metrics.f1_score(y_test,Y_pred))\n"
   ]
  },
  {
   "cell_type": "code",
   "execution_count": 50,
   "metadata": {},
   "outputs": [
    {
     "name": "stdout",
     "output_type": "stream",
     "text": [
      "Accuracy score (test set, pruned): 0.821\n",
      "ROC score (test set, baseline - unpruned): 0.809\n"
     ]
    }
   ],
   "source": [
    "acctest_neuraln1 = round(accuracy_score(Y_pred, y_test), 3)\n",
    "print('Accuracy score (test set, pruned):', acctest_neuraln1)\n",
    "roc_neuraln1 = round(roc_auc_score(Y_pred, y_test),3)\n",
    "print('ROC score (test set, baseline - unpruned):', roc_neuraln1)"
   ]
  },
  {
   "cell_type": "code",
   "execution_count": 47,
   "metadata": {},
   "outputs": [
    {
     "name": "stdout",
     "output_type": "stream",
     "text": [
      "Decision Tree Accuracy Train Set (CV/Mean):  0.865575451569\n",
      "Decision Tree Accuracy Train Set (CV/SD):  0.0206225402761\n"
     ]
    }
   ],
   "source": [
    "# cross validation (train set)\n",
    "scoresNN = cross_val_score(neuraln1, X_train, y_train, cv = 5, scoring = 'roc_auc', n_jobs=-1)\n",
    "print('Decision Tree Accuracy Train Set (CV/Mean): ', np.mean(scoresNN))\n",
    "print('Decision Tree Accuracy Train Set (CV/SD): ', np.std(scoresNN))\n",
    "# The cross_val_score returns the accuracy for all the folds\n"
   ]
  },
  {
   "cell_type": "code",
   "execution_count": 63,
   "metadata": {},
   "outputs": [
    {
     "data": {
      "image/png": "[encoded data removed]",
      "text/plain": [
       "<matplotlib.figure.Figure at 0xbd5c048>"
      ]
     },
     "metadata": {},
     "output_type": "display_data"
    }
   ],
   "source": [
    "# learning curve\n",
    "from sklearn.model_selection import learning_curve\n",
    "from sklearn.model_selection import ShuffleSplit\n",
    "def plot_learning_curve(estimator, title, X, y, ylim=None, cv=None,\n",
    "                        n_jobs=None, train_sizes=np.linspace(.1, 1.0, 5)):\n",
    "    \n",
    "    plt.figure()\n",
    "    plt.title(title)\n",
    "    if ylim is not None:\n",
    "        plt.ylim(*ylim)\n",
    "    plt.xlabel(\"Training examples\")\n",
    "    plt.ylabel(\"Score\")\n",
    "    train_sizes, train_scores, test_scores = learning_curve(\n",
    "        estimator, X, y, cv=cv, n_jobs=n_jobs, train_sizes=train_sizes)\n",
    "    train_scores_mean = np.mean(train_scores, axis=1)\n",
    "    train_scores_std = np.std(train_scores, axis=1)\n",
    "    test_scores_mean = np.mean(test_scores, axis=1)\n",
    "    test_scores_std = np.std(test_scores, axis=1)\n",
    "    plt.grid()\n",
    "\n",
    "    plt.fill_between(train_sizes, train_scores_mean - train_scores_std,\n",
    "                     train_scores_mean + train_scores_std, alpha=0.1,\n",
    "                     color=\"r\")\n",
    "    plt.fill_between(train_sizes, test_scores_mean - test_scores_std,\n",
    "                     test_scores_mean + test_scores_std, alpha=0.1, color=\"g\")\n",
    "    plt.plot(train_sizes, train_scores_mean, 'o-', color=\"r\",\n",
    "             label=\"Training score\")\n",
    "    plt.plot(train_sizes, test_scores_mean, 'o-', color=\"g\",\n",
    "             label=\"Cross-validation score\")\n",
    "\n",
    "    plt.legend(loc=\"best\")\n",
    "    return plt\n",
    "title = \"Learning Curves (Neural Network-Titanic)\"\n",
    "# Cross validation with 100 iterations to get smoother mean test and train\n",
    "# score curves, each time with 20% data randomly selected as a validation set.\n",
    "cv = ShuffleSplit(n_splits=100, test_size=0.2, random_state=0)\n",
    "\n",
    "estimator = MLPClassifier(max_iter=1000,solver='lbfgs',hidden_layer_sizes=[8,],random_state=1)\n",
    "\n",
    "plot_learning_curve(estimator, title, X, Y, ylim=(0.7, 1.01), cv=cv, n_jobs=-1)\n",
    "\n",
    "plt.show()"
   ]
  },
  {
   "cell_type": "code",
   "execution_count": 59,
   "metadata": {},
   "outputs": [
    {
     "name": "stdout",
     "output_type": "stream",
     "text": [
      "             precision    recall  f1-score   support\n",
      "\n",
      "          0       0.86      0.86      0.86       139\n",
      "          1       0.76      0.76      0.76        84\n",
      "\n",
      "avg / total       0.82      0.82      0.82       223\n",
      "\n",
      "             precision    recall  f1-score   support\n",
      "\n",
      "          0       0.85      0.86      0.85       139\n",
      "          1       0.77      0.74      0.75        84\n",
      "\n",
      "avg / total       0.82      0.82      0.82       223\n",
      "\n"
     ]
    }
   ],
   "source": [
    "print(classification_report(y_test,Y_pred))\n",
    "print(classification_report(y_test,Y_pred0))"
   ]
  },
  {
   "cell_type": "code",
   "execution_count": 73,
   "metadata": {},
   "outputs": [
    {
     "name": "stdout",
     "output_type": "stream",
     "text": [
      "Accuracy score (train set, baseline - unpruned, no cross validation): 0.898\n",
      "Model Training Time (s):   0.07404\n",
      "Model Prediction Time (s): 0.00022\n",
      "\n"
     ]
    }
   ],
   "source": [
    "# Boosting\n",
    "# Baseline (no pruning)\n",
    "start_time = timeit.default_timer()\n",
    "\n",
    "gbc0 = GradientBoostingClassifier()\n",
    "gbc0.fit(X_train, y_train.ravel())\n",
    "end_time = timeit.default_timer()\n",
    "training_time = end_time - start_time\n",
    "\n",
    "start_time = timeit.default_timer()\n",
    "Y_pred0 = gbc0.predict(X_test)\n",
    "end_time = timeit.default_timer()\n",
    "predict_time = end_time - start_time\n",
    "\n",
    "acctrain_gbc0 = round(gbc0.score(X_train, y_train) , 3)\n",
    "print('Accuracy score (train set, baseline - unpruned, no cross validation):', acctrain_gbc0)\n",
    "print(\"Model Training Time (s):   \"+\"{:.5f}\".format(training_time))\n",
    "print(\"Model Prediction Time (s): \"+\"{:.5f}\\n\".format(pred_time))  \n"
   ]
  },
  {
   "cell_type": "code",
   "execution_count": 74,
   "metadata": {},
   "outputs": [
    {
     "name": "stdout",
     "output_type": "stream",
     "text": [
      "Accuracy score (test set, baseline): 0.834\n",
      "Accuracy score (test set, baseline - unpruned): 0.829\n"
     ]
    }
   ],
   "source": [
    "acctest_gbc0 = round(accuracy_score(Y_pred0, y_test) , 3)\n",
    "print('Accuracy score (test set, baseline):', acctest_gbc0)\n",
    "auc_gbc0 = round(roc_auc_score(Y_pred0, y_test),3)\n",
    "print('Accuracy score (test set, baseline - unpruned):', auc_gbc0)"
   ]
  },
  {
   "cell_type": "code",
   "execution_count": 75,
   "metadata": {},
   "outputs": [
    {
     "data": {
      "image/png": "[encoded data removed]",
      "text/plain": [
       "<matplotlib.figure.Figure at 0x1cd5e113400>"
      ]
     },
     "metadata": {},
     "output_type": "display_data"
    }
   ],
   "source": [
    "# GBC Parameter Tuning - max depth:\n",
    "max_depths = np.linspace(1, 30, 30, endpoint=True)\n",
    "train_results = []\n",
    "test_results = []\n",
    "for max_depth in max_depths:\n",
    "    gbc= GradientBoostingClassifier( max_depth=max_depth)\n",
    "    gbc.fit(X_train, y_train.ravel())\n",
    "    train_pred = gbc.predict(X_train)\n",
    "    false_positive_rate, true_positive_rate, thresholds = roc_curve(y_train, train_pred)\n",
    "    roc_auc = auc(false_positive_rate, true_positive_rate)\n",
    "    train_results.append(roc_auc)\n",
    "    y_pred = gbc.predict(X_test)\n",
    "    false_positive_rate, true_positive_rate, thresholds = roc_curve(y_test, y_pred)\n",
    "    roc_auc = auc(false_positive_rate, true_positive_rate)\n",
    "    test_results.append(roc_auc)\n",
    "    \n",
    "from matplotlib.legend_handler import HandlerLine2D\n",
    "line1, = plt.plot(max_depths, train_results, 'b', label='Train AUC')\n",
    "line2, = plt.plot(max_depths, test_results, 'r', label='Test AUC')\n",
    "plt.legend(handler_map={line1: HandlerLine2D(numpoints=2)})\n",
    "plt.ylabel('AUC score')\n",
    "plt.xlabel('Tree depth -Titanic')\n",
    "plt.show()\n"
   ]
  },
  {
   "cell_type": "code",
   "execution_count": 246,
   "metadata": {},
   "outputs": [
    {
     "data": {
      "image/png": "[encoded data removed]",
      "text/plain": [
       "<matplotlib.figure.Figure at 0xbfed5f8>"
      ]
     },
     "metadata": {},
     "output_type": "display_data"
    }
   ],
   "source": [
    "min_samples_splits = (2,5,10,15,20,100,200)\n",
    "train_results = []\n",
    "test_results = []\n",
    "for min_samples_split in min_samples_splits:\n",
    "    gbc = GradientBoostingClassifier(min_samples_split=min_samples_split)\n",
    "    gbc.fit(X_train, y_train.ravel())\n",
    "    train_pred = gbc.predict(X_train)\n",
    "    false_positive_rate, true_positive_rate, thresholds = roc_curve(y_train, train_pred)\n",
    "    roc_auc = auc(false_positive_rate, true_positive_rate)\n",
    "    train_results.append(roc_auc)\n",
    "    y_pred = gbc.predict(X_test)\n",
    "    false_positive_rate, true_positive_rate, thresholds = roc_curve(y_test, y_pred)\n",
    "    roc_auc = auc(false_positive_rate, true_positive_rate)\n",
    "    test_results.append(roc_auc)\n",
    "from matplotlib.legend_handler import HandlerLine2D\n",
    "line1, = plt.plot(min_samples_splits, train_results, 'b', label='Train AUC')\n",
    "line2, = plt.plot(min_samples_splits, test_results, 'r', label='Test AUC')\n",
    "plt.legend(handler_map={line1: HandlerLine2D(numpoints=2)})\n",
    "plt.ylabel('AUC score')\n",
    "plt.xlabel('min samples split')\n",
    "\n",
    "plt.show()"
   ]
  },
  {
   "cell_type": "code",
   "execution_count": 78,
   "metadata": {},
   "outputs": [
    {
     "name": "stdout",
     "output_type": "stream",
     "text": [
      "process time total:2.62 seconds\n"
     ]
    },
    {
     "name": "stderr",
     "output_type": "stream",
     "text": [
      "C:\\Users\\E015919\\AppData\\Local\\Continuum\\anaconda3\\lib\\site-packages\\sklearn\\utils\\validation.py:578: DataConversionWarning: A column-vector y was passed when a 1d array was expected. Please change the shape of y to (n_samples, ), for example using ravel().\n",
      "  y = column_or_1d(y, warn=True)\n"
     ]
    }
   ],
   "source": [
    "# GBC (some pruning, Grid Search)\n",
    "\n",
    "#grid search\n",
    "import time\n",
    "start_time=time.time()\n",
    "\n",
    "max_depth_arr = range(1,8,1)\n",
    "min_samples_split_arr = range(2,20,2)\n",
    "\n",
    "parameters= [{'max_depth': max_depth_arr}]\n",
    "\n",
    "\n",
    "gs_gbc=GridSearchCV(estimator=gbc0,param_grid=parameters,scoring = 'roc_auc', n_jobs=-1,cv=5)\n",
    "gs_gbc.fit(X_train,y_train)\n",
    "\n",
    "print(\"process time total:{:.2f} seconds\".format(time.time()-start_time))\n"
   ]
  },
  {
   "cell_type": "code",
   "execution_count": 79,
   "metadata": {},
   "outputs": [
    {
     "name": "stdout",
     "output_type": "stream",
     "text": [
      "best score: 0.867096386082\n",
      "best param: {'max_depth': 3}\n"
     ]
    }
   ],
   "source": [
    "print(\"best score: %s\" % gs_gbc.best_score_)\n",
    "print(\"best param: %s\" % gs_gbc.best_params_)\n"
   ]
  },
  {
   "cell_type": "code",
   "execution_count": 80,
   "metadata": {},
   "outputs": [
    {
     "name": "stderr",
     "output_type": "stream",
     "text": [
      "C:\\Users\\E015919\\AppData\\Local\\Continuum\\anaconda3\\lib\\site-packages\\sklearn\\utils\\validation.py:578: DataConversionWarning: A column-vector y was passed when a 1d array was expected. Please change the shape of y to (n_samples, ), for example using ravel().\n",
      "  y = column_or_1d(y, warn=True)\n"
     ]
    },
    {
     "data": {
      "image/png": "[encoded data removed]",
      "text/plain": [
       "<matplotlib.figure.Figure at 0x1cd5f8a4ba8>"
      ]
     },
     "metadata": {},
     "output_type": "display_data"
    },
    {
     "name": "stdout",
     "output_type": "stream",
     "text": [
      "Model Training Time (s):   0.07146\n",
      "Model Prediction Time (s): 0.00022\n",
      "\n"
     ]
    }
   ],
   "source": [
    "#Re-run GBC with the best parameters reported in Grid Search\n",
    "start_time = timeit.default_timer()\n",
    "#gbc1=GradientBoostingClassifier(max_depth=6, learning_rate=0.01, min_samples_split=14, n_estimators=200)\n",
    "gbc1=GradientBoostingClassifier(max_depth=3)\n",
    "# Training\n",
    "gbc1.fit(X_train, y_train)\n",
    "end_time = timeit.default_timer()\n",
    "training_time = end_time - start_time\n",
    "\n",
    "start_time = timeit.default_timer()\n",
    "Y_pred =gbc1.predict(X_test)\n",
    "end_time = timeit.default_timer()\n",
    "predict_time = end_time - start_time\n",
    "\n",
    "\n",
    "pruned_roc_auc= roc_auc_score(y_test, gbc1.predict(X_test))\n",
    "Y_pred_proba = gbc1.predict_proba(X_test)[:,1]\n",
    "fpr,tpr,thresholds = metrics.roc_curve(y_test,Y_pred_proba)\n",
    "\n",
    "baseline_roc_auc = roc_auc_score(y_test, gbc0.predict(X_test))\n",
    "Y_pred0_proba=gbc0.predict_proba(X_test)[:,1]\n",
    "fpr0, tpr0, thresholds0=metrics.roc_curve(y_test, Y_pred0_proba)\n",
    "\n",
    "# Plotting and printing\n",
    "#plt.plot(fpr,tpr,label='Gradient Boosting - pruned(area = %0.4f)'% pruned_roc_auc)\n",
    "#plt.plot(fpr0,tpr0,label='Gradient Boosting - baseline(area = %0.4f)'% baseline_roc_auc)\n",
    "plt.plot(fpr,tpr,label='Gradient Boosting (Titanic) - pruned')\n",
    "plt.plot(fpr0,tpr0,label='Gradient Boosting (Titanic) - baseline')\n",
    "plt.xlabel ('false positive rate')\n",
    "plt.ylabel ('true positive rate')\n",
    "plt.legend(loc='lower right',shadow=True)\n",
    "lw=2\n",
    "plt.plot([0, 1], [0, 1], color='navy', lw=lw, linestyle='--')\n",
    "plt.xlim([0.0, 1.0])\n",
    "plt.ylim([0.0, 1.0])\n",
    "plt.show()\n",
    "print(\"Model Training Time (s):   \"+\"{:.5f}\".format(training_time))\n",
    "print(\"Model Prediction Time (s): \"+\"{:.5f}\\n\".format(pred_time))  \n",
    "#print(\"roc_auc score: %s\" % metrics.roc_auc_score(y_test,Y_pred_proba))\n",
    "#print(\"accuracy score: %s\" % metrics.accuracy_score(y_test,Y_pred))\n",
    "#print(\"precision score: %s\" % metrics.precision_score(y_test,Y_pred))\n",
    "#print(\"recall score: %s\" % metrics.recall_score(y_test,Y_pred))\n",
    "#print(\"F1 score: %s\" % metrics.f1_score(y_test,Y_pred))\n"
   ]
  },
  {
   "cell_type": "code",
   "execution_count": 81,
   "metadata": {},
   "outputs": [
    {
     "name": "stdout",
     "output_type": "stream",
     "text": [
      "Accuracy score (test set, pruned): 0.839\n",
      "ROC score (test set, baseline - unpruned): 0.835\n"
     ]
    }
   ],
   "source": [
    "acctest_gbc1 = round(accuracy_score(Y_pred, y_test) , 3)\n",
    "print('Accuracy score (test set, pruned):', acctest_gbc1)\n",
    "roc_gbc1 = round(roc_auc_score(Y_pred, y_test),3)\n",
    "print('ROC score (test set, baseline - unpruned):', roc_gbc1)"
   ]
  },
  {
   "cell_type": "code",
   "execution_count": 82,
   "metadata": {},
   "outputs": [
    {
     "name": "stdout",
     "output_type": "stream",
     "text": [
      "GBC Accuracy Train Set (CV/Mean):  0.867374829857\n",
      "GBC Accuracy Train Set (CV/SD):  0.0276671817206\n"
     ]
    }
   ],
   "source": [
    "# cross validation (train set)\n",
    "scoresGBC = cross_val_score(gbc1, X_train, y_train, cv = 5, scoring = 'roc_auc', n_jobs=-1)\n",
    "print('GBC Accuracy Train Set (CV/Mean): ', np.mean(scoresGBC))\n",
    "print('GBC Accuracy Train Set (CV/SD): ', np.std(scoresGBC))\n",
    "# The cross_val_score returns the accuracy for all the folds\n"
   ]
  },
  {
   "cell_type": "code",
   "execution_count": 83,
   "metadata": {},
   "outputs": [
    {
     "name": "stdout",
     "output_type": "stream",
     "text": [
      "             precision    recall  f1-score   support\n",
      "\n",
      "          0       0.85      0.91      0.88       139\n",
      "          1       0.82      0.73      0.77        84\n",
      "\n",
      "avg / total       0.84      0.84      0.84       223\n",
      "\n",
      "             precision    recall  f1-score   support\n",
      "\n",
      "          0       0.84      0.90      0.87       139\n",
      "          1       0.81      0.73      0.77        84\n",
      "\n",
      "avg / total       0.83      0.83      0.83       223\n",
      "\n"
     ]
    }
   ],
   "source": [
    "print(classification_report(y_test,Y_pred))\n",
    "print(classification_report(y_test,Y_pred0))\n"
   ]
  },
  {
   "cell_type": "code",
   "execution_count": 64,
   "metadata": {},
   "outputs": [
    {
     "data": {
      "image/png": "[encoded data removed]",
      "text/plain": [
       "<matplotlib.figure.Figure at 0xc6fda90>"
      ]
     },
     "metadata": {},
     "output_type": "display_data"
    }
   ],
   "source": [
    "# learning curve\n",
    "\n",
    "def plot_learning_curve(estimator, title, X, y, ylim=None, cv=None,\n",
    "                        n_jobs=None, train_sizes=np.linspace(.1, 1.0, 5)):\n",
    "    \n",
    "    plt.figure()\n",
    "    plt.title(title)\n",
    "    if ylim is not None:\n",
    "        plt.ylim(*ylim)\n",
    "    plt.xlabel(\"Training examples\")\n",
    "    plt.ylabel(\"Score\")\n",
    "    train_sizes, train_scores, test_scores = learning_curve(\n",
    "        estimator, X, y, cv=cv, n_jobs=n_jobs, train_sizes=train_sizes)\n",
    "    train_scores_mean = np.mean(train_scores, axis=1)\n",
    "    train_scores_std = np.std(train_scores, axis=1)\n",
    "    test_scores_mean = np.mean(test_scores, axis=1)\n",
    "    test_scores_std = np.std(test_scores, axis=1)\n",
    "    plt.grid()\n",
    "\n",
    "    plt.fill_between(train_sizes, train_scores_mean - train_scores_std,\n",
    "                     train_scores_mean + train_scores_std, alpha=0.1,\n",
    "                     color=\"r\")\n",
    "    plt.fill_between(train_sizes, test_scores_mean - test_scores_std,\n",
    "                     test_scores_mean + test_scores_std, alpha=0.1, color=\"g\")\n",
    "    plt.plot(train_sizes, train_scores_mean, 'o-', color=\"r\",\n",
    "             label=\"Training score\")\n",
    "    plt.plot(train_sizes, test_scores_mean, 'o-', color=\"g\",\n",
    "             label=\"Cross-validation score\")\n",
    "\n",
    "    plt.legend(loc=\"best\")\n",
    "    return plt\n",
    "title = \"Learning Curves (Gradient Boosting)\"\n",
    "# Cross validation with 100 iterations to get smoother mean test and train\n",
    "# score curves, each time with 20% data randomly selected as a validation set.\n",
    "cv = ShuffleSplit(n_splits=100, test_size=0.2, random_state=0)\n",
    "\n",
    "estimator = GradientBoostingClassifier(max_depth=3)\n",
    "\n",
    "plot_learning_curve(estimator, title, X, Y, ylim=(0.7, 1.01), cv=cv, n_jobs=-1)\n",
    "\n",
    "plt.show()"
   ]
  },
  {
   "cell_type": "code",
   "execution_count": 66,
   "metadata": {},
   "outputs": [
    {
     "name": "stdout",
     "output_type": "stream",
     "text": [
      "Accuracy score (train set, baseline - unpruned, no cross validation): 0.876\n",
      "Model Training Time (s):   0.15722\n",
      "Model Prediction Time (s): 0.00030\n",
      "\n"
     ]
    },
    {
     "name": "stderr",
     "output_type": "stream",
     "text": [
      "C:\\Users\\E015919\\AppData\\Local\\Continuum\\anaconda3\\lib\\site-packages\\sklearn\\utils\\validation.py:578: DataConversionWarning: A column-vector y was passed when a 1d array was expected. Please change the shape of y to (n_samples, ), for example using ravel().\n",
      "  y = column_or_1d(y, warn=True)\n"
     ]
    }
   ],
   "source": [
    "# SVM\n",
    "#svc=SVC(C=30, gamma=0.01)\n",
    "# Baseline (no pruning)\n",
    "#from sklearn.svm import SVC, LinearSVC\n",
    "start_time = timeit.default_timer()\n",
    "\n",
    "from sklearn.svm import SVC\n",
    "svc0 = SVC()\n",
    "svc0.fit(X_train, y_train)\n",
    "end_time = timeit.default_timer()\n",
    "training_time = end_time - start_time\n",
    "\n",
    "start_time = timeit.default_timer()\n",
    "\n",
    "Y_pred0 = svc0.predict(X_test)\n",
    "end_time = timeit.default_timer()\n",
    "predict_time = end_time - start_time\n",
    "\n",
    "acctrain_svc0 = round(svc0.score(X_train, y_train) ,3)\n",
    "print('Accuracy score (train set, baseline - unpruned, no cross validation):', acctrain_svc0)\n",
    "print(\"Model Training Time (s):   \"+\"{:.5f}\".format(training_time))\n",
    "print(\"Model Prediction Time (s): \"+\"{:.5f}\\n\".format(pred_time)) "
   ]
  },
  {
   "cell_type": "code",
   "execution_count": 86,
   "metadata": {},
   "outputs": [
    {
     "name": "stdout",
     "output_type": "stream",
     "text": [
      "Accuracy score (test set, baseline - unpruned): 0.735\n",
      "Accuracy score (test set, baseline - unpruned): 0.718\n"
     ]
    }
   ],
   "source": [
    "acctest_svc0 = round(accuracy_score(Y_pred0, y_test) , 3)\n",
    "print('Accuracy score (test set, baseline - unpruned):', acctest_svc0)\n",
    "auc_svc0 = round(roc_auc_score(Y_pred0, y_test),3)\n",
    "print('Accuracy score (test set, baseline - unpruned):', auc_svc0)"
   ]
  },
  {
   "cell_type": "code",
   "execution_count": 88,
   "metadata": {},
   "outputs": [
    {
     "name": "stderr",
     "output_type": "stream",
     "text": [
      "C:\\Users\\E015919\\AppData\\Local\\Continuum\\anaconda3\\lib\\site-packages\\sklearn\\utils\\validation.py:578: DataConversionWarning: A column-vector y was passed when a 1d array was expected. Please change the shape of y to (n_samples, ), for example using ravel().\n",
      "  y = column_or_1d(y, warn=True)\n"
     ]
    },
    {
     "data": {
      "image/png": "[encoded data removed]",
      "text/plain": [
       "<matplotlib.figure.Figure at 0x1cd5f881b70>"
      ]
     },
     "metadata": {},
     "output_type": "display_data"
    }
   ],
   "source": [
    "# SVM Parameter Tuning - C:\n",
    "C_arr=[0.1,1,10,30]\n",
    "train_results = []\n",
    "test_results = []\n",
    "for C in C_arr:\n",
    "   svc= SVC(C=C)\n",
    "   svc.fit(X_train, y_train)\n",
    "   train_pred = svc.predict(X_train)\n",
    "   false_positive_rate, true_positive_rate, thresholds = roc_curve(y_train, train_pred)\n",
    "   roc_auc = auc(false_positive_rate, true_positive_rate)\n",
    "   train_results.append(roc_auc)\n",
    "   y_pred = svc.predict(X_test)\n",
    "   false_positive_rate, true_positive_rate, thresholds = roc_curve(y_test, y_pred)\n",
    "   roc_auc = auc(false_positive_rate, true_positive_rate)\n",
    "   test_results.append(roc_auc)\n",
    "    \n",
    "from matplotlib.legend_handler import HandlerLine2D\n",
    "line1, = plt.plot(C_arr, train_results, 'b', label='Train AUC')\n",
    "line2, = plt.plot(C_arr, test_results, 'r', label='Test AUC')\n",
    "plt.legend(handler_map={line1: HandlerLine2D(numpoints=2)})\n",
    "plt.ylabel('AUC score')\n",
    "plt.xlabel('Penalty parameter C of the error term - Tiantic')\n",
    "plt.show()\n"
   ]
  },
  {
   "cell_type": "code",
   "execution_count": 365,
   "metadata": {},
   "outputs": [
    {
     "name": "stderr",
     "output_type": "stream",
     "text": [
      "C:\\Users\\E015919\\AppData\\Local\\Continuum\\anaconda3\\lib\\site-packages\\sklearn\\utils\\validation.py:578: DataConversionWarning: A column-vector y was passed when a 1d array was expected. Please change the shape of y to (n_samples, ), for example using ravel().\n",
      "  y = column_or_1d(y, warn=True)\n"
     ]
    },
    {
     "data": {
      "image/png": "[encoded data removed]",
      "text/plain": [
       "<matplotlib.figure.Figure at 0xc3c0f98>"
      ]
     },
     "metadata": {},
     "output_type": "display_data"
    }
   ],
   "source": [
    "# SVM Parameter Tuning - gamma:\n",
    "gamma_arr=[0.001,0.01,0.05,0.2,1]\n",
    "train_results = []\n",
    "test_results = []\n",
    "for gamma in gamma_arr:\n",
    "   svc= SVC(gamma=gamma)\n",
    "   svc.fit(X_train, y_train)\n",
    "   train_pred = svc.predict(X_train)\n",
    "   false_positive_rate, true_positive_rate, thresholds = roc_curve(y_train, train_pred)\n",
    "   roc_auc = auc(false_positive_rate, true_positive_rate)\n",
    "   train_results.append(roc_auc)\n",
    "   y_pred = svc.predict(X_test)\n",
    "   false_positive_rate, true_positive_rate, thresholds = roc_curve(y_test, y_pred)\n",
    "   roc_auc = auc(false_positive_rate, true_positive_rate)\n",
    "   test_results.append(roc_auc)\n",
    "    \n",
    "from matplotlib.legend_handler import HandlerLine2D\n",
    "line1, = plt.plot(gamma_arr, train_results, 'b', label='Train AUC')\n",
    "line2, = plt.plot(gamma_arr, test_results, 'r', label='Test AUC')\n",
    "plt.legend(handler_map={line1: HandlerLine2D(numpoints=2)})\n",
    "plt.ylabel('AUC score')\n",
    "plt.xlabel('Gamma')\n",
    "plt.show()"
   ]
  },
  {
   "cell_type": "code",
   "execution_count": 69,
   "metadata": {},
   "outputs": [
    {
     "name": "stdout",
     "output_type": "stream",
     "text": [
      "[0.63979013045944411, 0.63979013045944411]\n",
      "[0.77676430284343956, 0.71475676601575877]\n"
     ]
    },
    {
     "data": {
      "image/png": "[encoded data removed]",
      "text/plain": [
       "<matplotlib.figure.Figure at 0xc8ca780>"
      ]
     },
     "metadata": {},
     "output_type": "display_data"
    }
   ],
   "source": [
    "#SVM Parameter Tuning - kernel:\n",
    "kernel_arr =  ['linear', 'rbf']\n",
    "train_results = []\n",
    "test_results = []\n",
    "for kernel in kernel_arr:\n",
    "    svc=SVC(kernel=kernel)\n",
    "    svc.fit(X_train, y_train.ravel())\n",
    "    train_pred = knn.predict(X_train)\n",
    "    false_positive_rate, true_positive_rate, thresholds = roc_curve(y_train, train_pred)\n",
    "    roc_auc = auc(false_positive_rate, true_positive_rate)\n",
    "    train_results.append(roc_auc)\n",
    "    y_pred = svc.predict(X_test)\n",
    "    false_positive_rate, true_positive_rate, thresholds = roc_curve(y_test, y_pred)\n",
    "    roc_auc = auc(false_positive_rate, true_positive_rate)\n",
    "    test_results.append(roc_auc)\n",
    "\n",
    "print(train_results)\n",
    "print(test_results)\n",
    "\n",
    "from matplotlib.legend_handler import HandlerLine2D\n",
    "line1, = plt.plot(['linear', 'rbf' ], train_results, 'b', label='Train AUC')\n",
    "line2, = plt.plot(['linear', 'rbf'], test_results, 'r', label='Test AUC')\n",
    "plt.legend(handler_map={line1: HandlerLine2D(numpoints=2)})\n",
    "plt.ylabel('AUC score')\n",
    "plt.xlabel('Kernel')\n",
    "plt.show()"
   ]
  },
  {
   "cell_type": "code",
   "execution_count": 91,
   "metadata": {},
   "outputs": [
    {
     "name": "stdout",
     "output_type": "stream",
     "text": [
      "process time total:284.28 seconds\n"
     ]
    },
    {
     "name": "stderr",
     "output_type": "stream",
     "text": [
      "C:\\Users\\E015919\\AppData\\Local\\Continuum\\anaconda3\\lib\\site-packages\\sklearn\\utils\\validation.py:578: DataConversionWarning: A column-vector y was passed when a 1d array was expected. Please change the shape of y to (n_samples, ), for example using ravel().\n",
      "  y = column_or_1d(y, warn=True)\n"
     ]
    }
   ],
   "source": [
    "# SVM (some pruning, Grid Search)\n",
    "\n",
    "#grid search\n",
    "import time\n",
    "start_time=time.time()\n",
    "\n",
    "C_arr = [0.1,1,10,30]\n",
    "gamma_arr=[0.001,0.01,0.05,0.2,1]\n",
    "kernel_arr=['linear', 'rbf']\n",
    "\n",
    "parameters= [{'C': C_arr, 'gamma':gamma_arr, 'kernel':kernel_arr}]\n",
    "\n",
    "\n",
    "gs_svc=GridSearchCV(estimator=svc0,param_grid=parameters,scoring = 'roc_auc', n_jobs=-1,cv=5)\n",
    "gs_svc.fit(X_train,y_train)\n",
    "\n",
    "print(\"process time total:{:.2f} seconds\".format(time.time()-start_time))\n"
   ]
  },
  {
   "cell_type": "code",
   "execution_count": 92,
   "metadata": {},
   "outputs": [
    {
     "name": "stdout",
     "output_type": "stream",
     "text": [
      "best score: 0.85950280352\n",
      "best param: {'C': 0.1, 'gamma': 0.001, 'kernel': 'linear'}\n"
     ]
    }
   ],
   "source": [
    "print(\"best score: %s\" % gs_svc.best_score_)\n",
    "print(\"best param: %s\" % gs_svc.best_params_)"
   ]
  },
  {
   "cell_type": "code",
   "execution_count": 101,
   "metadata": {},
   "outputs": [
    {
     "name": "stderr",
     "output_type": "stream",
     "text": [
      "C:\\Users\\E015919\\AppData\\Local\\Continuum\\anaconda3\\lib\\site-packages\\sklearn\\utils\\validation.py:578: DataConversionWarning: A column-vector y was passed when a 1d array was expected. Please change the shape of y to (n_samples, ), for example using ravel().\n",
      "  y = column_or_1d(y, warn=True)\n"
     ]
    },
    {
     "data": {
      "image/png": "[encoded data removed]",
      "text/plain": [
       "<matplotlib.figure.Figure at 0x1cd5f8f1d68>"
      ]
     },
     "metadata": {},
     "output_type": "display_data"
    },
    {
     "name": "stdout",
     "output_type": "stream",
     "text": [
      "Model Training Time (s):   88.06723\n",
      "Model Prediction Time (s): 0.00022\n",
      "\n"
     ]
    }
   ],
   "source": [
    "#Re-run GBC with the best parameters reported in Grid Search\n",
    "start_time = timeit.default_timer()\n",
    "svc1=SVC(C=30, gamma=0.001, kernel='linear')\n",
    "svc0=SVC()\n",
    "\n",
    "#trick sklearn:\n",
    "svc1.probability = True\n",
    "svc0.probability= True\n",
    "\n",
    "# Training\n",
    "svc1.fit(X_train, y_train)\n",
    "end_time = timeit.default_timer()\n",
    "training_time = end_time - start_time\n",
    "start_time = timeit.default_timer()\n",
    "Y_pred =svc1.predict(X_test)\n",
    "end_time = timeit.default_timer()\n",
    "predict_time = end_time - start_time\n",
    "\n",
    "svc0.fit(X_train, y_train)\n",
    "#pruned_roc_auc= roc_auc_score(y_test, svc1.predict(X_test))\n",
    "Y_pred_proba = svc1.predict_proba(X_test)[:,1]\n",
    "fpr,tpr,thresholds = metrics.roc_curve(y_test,Y_pred_proba)\n",
    "\n",
    "#baseline_roc_auc = roc_auc_score(y_test, svc0.predict(X_test))\n",
    "Y_pred0_proba=svc0.predict_proba(X_test)[:,1]\n",
    "fpr0, tpr0, thresholds0=metrics.roc_curve(y_test, Y_pred0_proba)\n",
    "\n",
    "# Plotting and printing\n",
    "\n",
    "plt.plot(fpr,tpr,label='SVM (Titanic)- pruned')\n",
    "plt.plot(fpr0,tpr0,label='SVM (Titatic) - baseline')\n",
    "plt.xlabel ('false positive rate')\n",
    "plt.ylabel ('true positive rate')\n",
    "plt.legend(loc='lower right',shadow=True)\n",
    "lw=2\n",
    "plt.plot([0, 1], [0, 1], color='navy', lw=lw, linestyle='--')\n",
    "plt.xlim([0.0, 1.0])\n",
    "plt.ylim([0.0, 1.0])\n",
    "plt.show()\n",
    "print(\"Model Training Time (s):   \"+\"{:.5f}\".format(training_time))\n",
    "print(\"Model Prediction Time (s): \"+\"{:.5f}\\n\".format(pred_time))  \n",
    "#print(\"roc_auc score: %s\" % metrics.roc_auc_score(y_test,Y_pred_proba))\n",
    "#print(\"accuracy score: %s\" % metrics.accuracy_score(y_test,Y_pred))\n",
    "#print(\"precision score: %s\" % metrics.precision_score(y_test,Y_pred))\n",
    "#print(\"recall score: %s\" % metrics.recall_score(y_test,Y_pred))\n",
    "#print(\"F1 score: %s\" % metrics.f1_score(y_test,Y_pred))"
   ]
  },
  {
   "cell_type": "code",
   "execution_count": 102,
   "metadata": {},
   "outputs": [
    {
     "name": "stdout",
     "output_type": "stream",
     "text": [
      "Accuracy score (test set, pruned): 0.794\n",
      "ROC score (test set, baseline - unpruned): 0.78\n"
     ]
    }
   ],
   "source": [
    "acctest_svc1 = round(accuracy_score(Y_pred, y_test) , 3)\n",
    "print('Accuracy score (test set, pruned):', acctest_svc1)\n",
    "roc_svc1 = round(roc_auc_score(Y_pred, y_test),3)\n",
    "print('ROC score (test set, baseline - unpruned):', roc_svc1)"
   ]
  },
  {
   "cell_type": "code",
   "execution_count": 103,
   "metadata": {},
   "outputs": [
    {
     "name": "stdout",
     "output_type": "stream",
     "text": [
      "SVM Accuracy Train Set (CV/Mean):  0.853022569253\n",
      "SVM Accuracy Train Set (CV/SD):  0.0202090242745\n"
     ]
    }
   ],
   "source": [
    "# cross validation (train set)\n",
    "scoresSVM = cross_val_score(svc1, X_train, y_train, cv = 5, scoring = 'roc_auc', n_jobs=-1)\n",
    "print('SVM Accuracy Train Set (CV/Mean): ', np.mean(scoresSVM))\n",
    "print('SVM Accuracy Train Set (CV/SD): ', np.std(scoresSVM))\n",
    "# The cross_val_score returns the accuracy for all the folds\n"
   ]
  },
  {
   "cell_type": "code",
   "execution_count": 104,
   "metadata": {},
   "outputs": [
    {
     "name": "stdout",
     "output_type": "stream",
     "text": [
      "             precision    recall  f1-score   support\n",
      "\n",
      "          0       0.84      0.83      0.83       139\n",
      "          1       0.72      0.74      0.73        84\n",
      "\n",
      "avg / total       0.79      0.79      0.79       223\n",
      "\n",
      "             precision    recall  f1-score   support\n",
      "\n",
      "          0       0.78      0.80      0.79       139\n",
      "          1       0.65      0.63      0.64        84\n",
      "\n",
      "avg / total       0.73      0.74      0.73       223\n",
      "\n"
     ]
    }
   ],
   "source": [
    "print(classification_report(y_test,Y_pred))\n",
    "print(classification_report(y_test,Y_pred0))\n"
   ]
  },
  {
   "cell_type": "code",
   "execution_count": null,
   "metadata": {
    "collapsed": true
   },
   "outputs": [],
   "source": [
    "# learning curve\n",
    "\n",
    "def plot_learning_curve(estimator, title, X, y, ylim=None, cv=None,\n",
    "                        n_jobs=None, train_sizes=np.linspace(.1, 1.0, 5)):\n",
    "    \n",
    "    plt.figure()\n",
    "    plt.title(title)\n",
    "    if ylim is not None:\n",
    "        plt.ylim(*ylim)\n",
    "    plt.xlabel(\"Training examples\")\n",
    "    plt.ylabel(\"Score\")\n",
    "    train_sizes, train_scores, test_scores = learning_curve(\n",
    "        estimator, X, y, cv=cv, n_jobs=n_jobs, train_sizes=train_sizes)\n",
    "    train_scores_mean = np.mean(train_scores, axis=1)\n",
    "    train_scores_std = np.std(train_scores, axis=1)\n",
    "    test_scores_mean = np.mean(test_scores, axis=1)\n",
    "    test_scores_std = np.std(test_scores, axis=1)\n",
    "    plt.grid()\n",
    "\n",
    "    plt.fill_between(train_sizes, train_scores_mean - train_scores_std,\n",
    "                     train_scores_mean + train_scores_std, alpha=0.1,\n",
    "                     color=\"r\")\n",
    "    plt.fill_between(train_sizes, test_scores_mean - test_scores_std,\n",
    "                     test_scores_mean + test_scores_std, alpha=0.1, color=\"g\")\n",
    "    plt.plot(train_sizes, train_scores_mean, 'o-', color=\"r\",\n",
    "             label=\"Training score\")\n",
    "    plt.plot(train_sizes, test_scores_mean, 'o-', color=\"g\",\n",
    "             label=\"Cross-validation score\")\n",
    "\n",
    "    plt.legend(loc=\"best\")\n",
    "    return plt\n",
    "title = \"Learning Curves (SVM) -Titanic\"\n",
    "# Cross validation with 100 iterations to get smoother mean test and train\n",
    "# score curves, each time with 20% data randomly selected as a validation set.\n",
    "cv = ShuffleSplit(n_splits=100, test_size=0.2, random_state=0)\n",
    "\n",
    "estimator = SVC(C=30, gamma=0.001,kernel='linear')\n",
    "plot_learning_curve(estimator, title, X, Y, ylim=(0.7, 1.01), cv=cv, n_jobs=-1)\n",
    "\n",
    "plt.show()"
   ]
  },
  {
   "cell_type": "code",
   "execution_count": 18,
   "metadata": {},
   "outputs": [
    {
     "name": "stdout",
     "output_type": "stream",
     "text": [
      "Accuracy score (train set, baseline - unpruned, no cross validation): 0.802\n",
      "Model Training Time (s):   0.00229\n",
      "Model Prediction Time (s): 0.00041\n",
      "\n"
     ]
    },
    {
     "name": "stderr",
     "output_type": "stream",
     "text": [
      "C:\\Users\\E015919\\AppData\\Local\\Continuum\\anaconda3\\lib\\site-packages\\ipykernel_launcher.py:6: DataConversionWarning: A column-vector y was passed when a 1d array was expected. Please change the shape of y to (n_samples, ), for example using ravel().\n",
      "  \n"
     ]
    }
   ],
   "source": [
    "# KNN\n",
    "# Baseline (no pruning)\n",
    "start_time = timeit.default_timer()\n",
    "\n",
    "knn0=KNeighborsClassifier()\n",
    "knn0.fit(X_train, y_train)\n",
    "end_time = timeit.default_timer()\n",
    "training_time = end_time - start_time\n",
    "\n",
    "start_time = timeit.default_timer()\n",
    "Y_pred0 = knn0.predict(X_test)\n",
    "end_time = timeit.default_timer()\n",
    "predict_time = end_time - start_time\n",
    "\n",
    "acctrain_knn0 = round(knn0.score(X_train, y_train), 3)\n",
    "print('Accuracy score (train set, baseline - unpruned, no cross validation):', acctrain_knn0)\n",
    "print(\"Model Training Time (s):   \"+\"{:.5f}\".format(training_time))\n",
    "print(\"Model Prediction Time (s): \"+\"{:.5f}\\n\".format(pred_time))  "
   ]
  },
  {
   "cell_type": "code",
   "execution_count": 20,
   "metadata": {
    "scrolled": true
   },
   "outputs": [
    {
     "name": "stdout",
     "output_type": "stream",
     "text": [
      "Accuracy score (test set, baseline - unpruned): 0.722\n",
      "Accuracy score (test set, baseline - unpruned): 0.704\n"
     ]
    }
   ],
   "source": [
    "acctest_knn0 = round(accuracy_score(Y_pred0, y_test) , 3)\n",
    "print('Accuracy score (test set, baseline - unpruned):', acctest_knn0)\n",
    "auc_knn0 = round(roc_auc_score(Y_pred0, y_test),3)\n",
    "print('Accuracy score (test set, baseline - unpruned):', auc_knn0)"
   ]
  },
  {
   "cell_type": "code",
   "execution_count": 26,
   "metadata": {},
   "outputs": [
    {
     "name": "stderr",
     "output_type": "stream",
     "text": [
      "C:\\Users\\E015919\\AppData\\Local\\Continuum\\anaconda3\\lib\\site-packages\\ipykernel_launcher.py:7: DataConversionWarning: A column-vector y was passed when a 1d array was expected. Please change the shape of y to (n_samples, ), for example using ravel().\n",
      "  import sys\n"
     ]
    },
    {
     "data": {
      "image/png": "[encoded data removed]",
      "text/plain": [
       "<matplotlib.figure.Figure at 0xc6f39e8>"
      ]
     },
     "metadata": {},
     "output_type": "display_data"
    }
   ],
   "source": [
    "# KNN Parameter Tuning - n_neighbors:\n",
    "neighbor_arr = np.linspace(1, 40, 40, endpoint=True).astype('int')\n",
    "train_results = []\n",
    "test_results = []\n",
    "for n_neighbors in neighbor_arr:\n",
    "    knn= KNeighborsClassifier( n_neighbors=n_neighbors)\n",
    "    knn.fit(X_train, y_train)\n",
    "    train_pred = knn.predict(X_train)\n",
    "    false_positive_rate, true_positive_rate, thresholds = roc_curve(y_train, train_pred)\n",
    "    roc_auc = auc(false_positive_rate, true_positive_rate)\n",
    "    train_results.append(roc_auc)\n",
    "    y_pred = knn.predict(X_test)\n",
    "    false_positive_rate, true_positive_rate, thresholds = roc_curve(y_test, y_pred)\n",
    "    roc_auc = auc(false_positive_rate, true_positive_rate)\n",
    "    test_results.append(roc_auc)\n",
    "    \n",
    "from matplotlib.legend_handler import HandlerLine2D\n",
    "line1, = plt.plot(neighbor_arr, train_results, 'b', label='Train AUC')\n",
    "line2, = plt.plot(neighbor_arr, test_results, 'r', label='Test AUC')\n",
    "plt.legend(handler_map={line1: HandlerLine2D(numpoints=2)})\n",
    "plt.ylabel('AUC score')\n",
    "plt.xlabel('N_neighbors')\n",
    "plt.show()\n"
   ]
  },
  {
   "cell_type": "code",
   "execution_count": 28,
   "metadata": {},
   "outputs": [
    {
     "name": "stdout",
     "output_type": "stream",
     "text": [
      "process time total:4.09 seconds\n"
     ]
    },
    {
     "name": "stderr",
     "output_type": "stream",
     "text": [
      "C:\\Users\\E015919\\AppData\\Local\\Continuum\\anaconda3\\lib\\site-packages\\sklearn\\model_selection\\_search.py:739: DataConversionWarning: A column-vector y was passed when a 1d array was expected. Please change the shape of y to (n_samples, ), for example using ravel().\n",
      "  self.best_estimator_.fit(X, y, **fit_params)\n"
     ]
    }
   ],
   "source": [
    "# KNN (some pruning, Grid Search)\n",
    "from sklearn.model_selection import train_test_split, GridSearchCV, StratifiedKFold\n",
    "import time\n",
    "start_time=time.time()\n",
    "\n",
    "neighbor_arr = np.linspace(1, 40, 40, endpoint=True).astype('int')\n",
    "\n",
    "parameters= [{'n_neighbors': neighbor_arr}]\n",
    "\n",
    "gs_knn=GridSearchCV(estimator=knn0,param_grid=parameters,scoring = 'roc_auc', n_jobs=-1,cv=5)\n",
    "gs_knn.fit(X_train,y_train)\n",
    "\n",
    "print(\"process time total:{:.2f} seconds\".format(time.time()-start_time))\n"
   ]
  },
  {
   "cell_type": "code",
   "execution_count": 30,
   "metadata": {},
   "outputs": [
    {
     "name": "stdout",
     "output_type": "stream",
     "text": [
      "best score: 0.743577435131\n",
      "best param: {'n_neighbors': 18}\n"
     ]
    }
   ],
   "source": [
    "print(\"best score: %s\" % gs_knn.best_score_)\n",
    "print(\"best param: %s\" % gs_knn.best_params_)"
   ]
  },
  {
   "cell_type": "code",
   "execution_count": 34,
   "metadata": {},
   "outputs": [
    {
     "name": "stderr",
     "output_type": "stream",
     "text": [
      "C:\\Users\\E015919\\AppData\\Local\\Continuum\\anaconda3\\lib\\site-packages\\ipykernel_launcher.py:7: DataConversionWarning: A column-vector y was passed when a 1d array was expected. Please change the shape of y to (n_samples, ), for example using ravel().\n",
      "  import sys\n"
     ]
    },
    {
     "data": {
      "image/png": "[encoded data removed]",
      "text/plain": [
       "<matplotlib.figure.Figure at 0xc6f3240>"
      ]
     },
     "metadata": {},
     "output_type": "display_data"
    },
    {
     "name": "stdout",
     "output_type": "stream",
     "text": [
      "Model Training Time (s):   0.00290\n",
      "Model Prediction Time (s): 0.00041\n",
      "\n"
     ]
    }
   ],
   "source": [
    "#Re-run KNN with the best parameters reported in Grid Search\n",
    "\n",
    "start_time = timeit.default_timer()\n",
    "\n",
    "knn1=KNeighborsClassifier(n_neighbors=18)\n",
    "# Training\n",
    "knn1.fit(X_train, y_train)\n",
    "end_time = timeit.default_timer()\n",
    "training_time = end_time - start_time\n",
    "\n",
    "start_time = timeit.default_timer()\n",
    "Y_pred =knn1.predict(X_test)\n",
    "end_time = timeit.default_timer()\n",
    "predict_time = end_time - start_time\n",
    "\n",
    "pruned_roc_auc= roc_auc_score(y_test, knn1.predict(X_test))\n",
    "Y_pred_proba = knn1.predict_proba(X_test)[:,1]\n",
    "fpr,tpr,thresholds = metrics.roc_curve(y_test,Y_pred_proba)\n",
    "\n",
    "baseline_roc_auc = roc_auc_score(y_test, knn0.predict(X_test))\n",
    "Y_pred0_proba=knn0.predict_proba(X_test)[:,1]\n",
    "fpr0, tpr0, thresholds0=metrics.roc_curve(y_test, Y_pred0_proba)\n",
    "\n",
    "# Plotting and printing\n",
    "plt.plot(fpr,tpr,label='KNN (Titanic) - pruned')\n",
    "plt.plot(fpr0,tpr0,label='KNN (Titanic) - baseline')\n",
    "plt.xlabel ('false positive rate')\n",
    "plt.ylabel ('true positive rate')\n",
    "plt.legend(loc='lower right',shadow=True)\n",
    "lw=2\n",
    "plt.plot([0, 1], [0, 1], color='navy', lw=lw, linestyle='--')\n",
    "plt.xlim([0.0, 1.0])\n",
    "plt.ylim([0.0, 1.0])\n",
    "plt.show()\n",
    "print(\"Model Training Time (s):   \"+\"{:.5f}\".format(training_time))\n",
    "print(\"Model Prediction Time (s): \"+\"{:.5f}\\n\".format(pred_time)) \n",
    "#print(\"roc_auc score: %s\" % metrics.roc_auc_score(y_test,Y_pred_proba))\n",
    "#print(\"accuracy score: %s\" % metrics.accuracy_score(y_test,Y_pred))\n",
    "#print(\"precision score: %s\" % metrics.precision_score(y_test,Y_pred))\n",
    "#print(\"recall score: %s\" % metrics.recall_score(y_test,Y_pred))\n",
    "#print(\"F1 score: %s\" % metrics.f1_score(y_test,Y_pred))"
   ]
  },
  {
   "cell_type": "code",
   "execution_count": 35,
   "metadata": {},
   "outputs": [
    {
     "name": "stdout",
     "output_type": "stream",
     "text": [
      "Accuracy score (test set, pruned): 0.762\n",
      "ROC score (test set, baseline - unpruned): 0.76\n"
     ]
    }
   ],
   "source": [
    "acctest_knn1 = round(accuracy_score(Y_pred, y_test) , 3)\n",
    "print('Accuracy score (test set, pruned):', acctest_knn1)\n",
    "roc_knn1 = round(roc_auc_score(Y_pred, y_test),3)\n",
    "print('ROC score (test set, baseline - unpruned):', roc_knn1)"
   ]
  },
  {
   "cell_type": "code",
   "execution_count": 37,
   "metadata": {},
   "outputs": [
    {
     "name": "stdout",
     "output_type": "stream",
     "text": [
      "KNN Accuracy Train Set (CV/Mean):  0.743700106684\n",
      "KNN Accuracy Train Set (CV/SD):  0.0493393961146\n"
     ]
    }
   ],
   "source": [
    "# cross validation (train set)\n",
    "scoresKNN = cross_val_score(knn1, X_train, y_train, cv = 5, scoring = 'roc_auc', n_jobs=-1)\n",
    "print('KNN Accuracy Train Set (CV/Mean): ', np.mean(scoresKNN))\n",
    "print('KNN Accuracy Train Set (CV/SD): ', np.std(scoresKNN))\n",
    "# The cross_val_score returns the accuracy for all the folds"
   ]
  },
  {
   "cell_type": "code",
   "execution_count": 38,
   "metadata": {},
   "outputs": [
    {
     "name": "stdout",
     "output_type": "stream",
     "text": [
      "             precision    recall  f1-score   support\n",
      "\n",
      "          0       0.77      0.89      0.82       139\n",
      "          1       0.75      0.55      0.63        84\n",
      "\n",
      "avg / total       0.76      0.76      0.75       223\n",
      "\n",
      "             precision    recall  f1-score   support\n",
      "\n",
      "          0       0.75      0.82      0.79       139\n",
      "          1       0.65      0.56      0.60        84\n",
      "\n",
      "avg / total       0.72      0.72      0.72       223\n",
      "\n"
     ]
    }
   ],
   "source": [
    "print(classification_report(y_test,Y_pred))\n",
    "print(classification_report(y_test,Y_pred0))\n"
   ]
  },
  {
   "cell_type": "code",
   "execution_count": 43,
   "metadata": {},
   "outputs": [
    {
     "data": {
      "image/png": "[encoded data removed]",
      "text/plain": [
       "<matplotlib.figure.Figure at 0xc6d9ba8>"
      ]
     },
     "metadata": {},
     "output_type": "display_data"
    }
   ],
   "source": [
    "# learning curve\n",
    "\n",
    "from sklearn.model_selection import learning_curve\n",
    "from sklearn.model_selection import ShuffleSplit\n",
    "\n",
    "def plot_learning_curve(estimator, title, X, y, ylim=None, cv=None,\n",
    "                        n_jobs=None, train_sizes=np.linspace(.1, 1.0, 5)):\n",
    "    \n",
    "    plt.figure()\n",
    "    plt.title(title)\n",
    "    if ylim is not None:\n",
    "        plt.ylim(*ylim)\n",
    "    plt.xlabel(\"Training examples\")\n",
    "    plt.ylabel(\"Score\")\n",
    "    train_sizes, train_scores, test_scores = learning_curve(\n",
    "        estimator, X, y, cv=cv, n_jobs=n_jobs, train_sizes=train_sizes)\n",
    "    train_scores_mean = np.mean(train_scores, axis=1)\n",
    "    train_scores_std = np.std(train_scores, axis=1)\n",
    "    test_scores_mean = np.mean(test_scores, axis=1)\n",
    "    test_scores_std = np.std(test_scores, axis=1)\n",
    "    plt.grid()\n",
    "\n",
    "    plt.fill_between(train_sizes, train_scores_mean - train_scores_std,\n",
    "                     train_scores_mean + train_scores_std, alpha=0.1,\n",
    "                     color=\"r\")\n",
    "    plt.fill_between(train_sizes, test_scores_mean - test_scores_std,\n",
    "                     test_scores_mean + test_scores_std, alpha=0.1, color=\"g\")\n",
    "    plt.plot(train_sizes, train_scores_mean, 'o-', color=\"r\",\n",
    "             label=\"Training score\")\n",
    "    plt.plot(train_sizes, test_scores_mean, 'o-', color=\"g\",\n",
    "             label=\"Cross-validation score\")\n",
    "\n",
    "    plt.legend(loc=\"best\")\n",
    "    return plt\n",
    "title = \"Learning Curves (KNN)- Titanic\"\n",
    "# Cross validation with 100 iterations to get smoother mean test and train\n",
    "# score curves, each time with 20% data randomly selected as a validation set.\n",
    "cv = ShuffleSplit(n_splits=100, test_size=0.2, random_state=0)\n",
    "\n",
    "estimator = KNeighborsClassifier(n_neighbors=18)\n",
    "plot_learning_curve(estimator, title, X, Y, ylim=(0.6, 1.01), cv=cv, n_jobs=-1)\n",
    "\n",
    "plt.show()"
   ]
  }
 ],
 "metadata": {
  "kernelspec": {
   "display_name": "Python 3",
   "language": "python",
   "name": "python3"
  },
  "language_info": {
   "codemirror_mode": {
    "name": "ipython",
    "version": 3
   },
   "file_extension": ".py",
   "mimetype": "text/x-python",
   "name": "python",
   "nbconvert_exporter": "python",
   "pygments_lexer": "ipython3",
   "version": "3.6.3"
  }
 },
 "nbformat": 4,
 "nbformat_minor": 2
}
